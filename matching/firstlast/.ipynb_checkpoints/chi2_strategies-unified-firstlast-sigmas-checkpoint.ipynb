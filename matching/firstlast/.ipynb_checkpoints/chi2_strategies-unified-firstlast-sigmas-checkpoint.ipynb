{
 "cells": [
  {
   "cell_type": "code",
   "execution_count": 210,
   "metadata": {},
   "outputs": [
    {
     "name": "stderr",
     "output_type": "stream",
     "text": [
      "/eos/user/i/icortino/lhcbStyle.C:7:9: error: redefinition of 'black'\n",
      "  Int_t black  = 1;\n",
      "        ^\n",
      "/eos/user/i/icortino/lhcbStyle.C:7:9: note: previous definition is here\n",
      "  Int_t black  = 1;\n",
      "        ^\n"
     ]
    }
   ],
   "source": [
    "from ROOT import *\n",
    "import numpy as np\n",
    "import math\n",
    "import time\n",
    "\n",
    "import matplotlib.pyplot as plt\n",
    "from shapely.geometry import Point\n",
    "from shapely.geometry.polygon import Polygon\n",
    "\n",
    "gROOT.ProcessLine(\".x ~/lhcbStyle.C\")\n",
    "gStyle.SetPaintTextFormat(\"1.3f\")\n",
    "\n"
   ]
  },
  {
   "cell_type": "code",
   "execution_count": 211,
   "metadata": {},
   "outputs": [
    {
     "data": {
      "text/plain": [
       "1"
      ]
     },
     "execution_count": 211,
     "metadata": {},
     "output_type": "execute_result"
    },
    {
     "name": "stderr",
     "output_type": "stream",
     "text": [
      "fatal error: cannot open file 'input_line_80': No such file or directory\n"
     ]
    }
   ],
   "source": [
    "\n",
    "ch1=TChain(\"MCParticleNTuple/Tracks\")\n",
    "ch1.Add(\"~/MightyIT/MCtracks_MagUp_bs2phiphi_1p5e34_20ev.root\")\n",
    "\n",
    "#ch1=TChain(\"MCParticleNTuple/Tracks\")\n",
    "#ch1.Add(\"~/MightyIT/MCtracks_MagUp_bs2phiphi_1p5e34_nocuts_20ev.root\")\n",
    "#ch2=TChain(\"MCParticleNTuple/Tracks\")\n",
    "#ch2.Add(\"~/MightyIT/MCtracks_MagUp_bs2phiphi_1p5e34_nocuts_20ev.root\")\n",
    "\n",
    "\n",
    "\n"
   ]
  },
  {
   "cell_type": "code",
   "execution_count": 212,
   "metadata": {},
   "outputs": [],
   "source": [
    "# NEW FILE ALL CONFIGS FIRSTLAST\n",
    "\n",
    "perc_list = [80, 81, 82, 83, 84, 85, 86, 87, 88, 89, 90, 91, 92, 93, 94, 95, 96, 97, 98, 99] #8\n",
    "\n",
    "def upstreamConfig(uvconfig):\n",
    "    if uvconfig == 'VeloUT':\n",
    "        zmag = 5337.5 #for MCtracks_MagUp_bs2phiphi_1p5e34 WITH UT\n",
    "\n",
    "        sigmax_nosm=46\n",
    "        sigmay_nosm=13\n",
    "        sigmatx_nosm=0.02\n",
    "        sigmaty_nosm=0.009\n",
    "\n",
    "        sigmax_wsm=46\n",
    "        sigmay_wsm=13\n",
    "        sigmatx_wsm=0.02\n",
    "        sigmaty_wsm=0.009\n",
    "\n",
    "        thr_nosm_list = [3.34, 3.85, 4.5, 5.29, 6.23, 7.28, 8.43, 9.69, 11.18, 13.2, 15.68, 18.94, 22.86, 27.02, 33.1, 41.39, 57.32, 81.59, 116.73, 264.66]\n",
    "        thr_wsm_list = [3.36, 3.89, 4.48, 5.33, 6.21, 7.29, 8.38, 9.65, 11.19, 13.24, 15.74, 18.76, 23.16, 27.07, 33.02, 41.63, 57.06, 82.02, 118.34, 266.88]\n",
    "    \n",
    "    elif uvconfig == 'UTUT':\n",
    "        #zmag = 5458 #for MCtracks_MagUp_bs2phiphi_1p5e34 WITH UTUT #0\n",
    "        zmag = 5378 #for MCtracks_MagUp_bs2phiphi_1p5e34 WITH UTUT #0\n",
    "\n",
    "        sigmax_nosm=61 #1\n",
    "        sigmay_nosm=12 #2\n",
    "        sigmatx_nosm=0.03 #2\n",
    "        sigmaty_nosm=0.01 #3\n",
    "\n",
    "        sigmax_wsm=61 #4\n",
    "        sigmay_wsm=12 #5\n",
    "        sigmatx_wsm=0.02 #6\n",
    "        sigmaty_wsm=0.01 #7\n",
    "\n",
    "        thr_nosm_list = [3.02, 3.46, 3.98, 4.54, 5.24, 5.91, 6.98, 8.19, 9.46, 10.87, 12.47, 14.83, 17.26, 20.21, 24.55, 29.59, 37.89, 50.83, 68.39, 111.5]\n",
    "        thr_wsm_list = [3.38, 3.92, 4.53, 5.27, 6.06, 6.89, 8.03, 9.28, 10.8, 12.66, 14.76, 17.02, 20.25, 23.9, 28.86, 34.86, 45.41, 60.87, 84.37, 135.82]\n",
    "    \n",
    "    \n",
    "    elif uvconfig == 'VeloVelo':\n",
    "        #zmag = 5360 #for MCtracks_MagUp_bs2phiphi_1p5e34\n",
    "        zmag = 5293 #for MCtracks_MagUp_bs2phiphi_1p5e34\n",
    "\n",
    "\n",
    "        sigmax_nosm=45\n",
    "        sigmay_nosm=17\n",
    "        sigmatx_nosm=0.02\n",
    "        sigmaty_nosm=0.01\n",
    "\n",
    "        sigmax_wsm=45\n",
    "        sigmay_wsm=16\n",
    "        sigmatx_wsm=0.02\n",
    "        sigmaty_wsm=0.01\n",
    "        \n",
    "        thr_nosm_list = [2.81, 3.15, 3.54, 4.03, 4.57, 5.24, 6.01, 6.9, 8.28, 9.61, 11.04, 13.48, 16.36, 20.3, 25.23, 32.07, 41.24, 56.95, 82.72, 150.18]\n",
    "        thr_wsm_list = [3.01, 3.37, 3.78, 4.24, 4.81, 5.6, 6.33, 7.29, 8.71, 10.17, 11.74, 14.16, 16.84, 21.13, 26.55, 33.26, 43.18, 57.28, 85.16, 155.98]\n",
    "\n",
    "        \n",
    "            \n",
    "    else:\n",
    "        print('configuration not valid: choose between UTUT, VeloUT, VeloVelo')\n",
    "    \n",
    "    return zmag,sigmax_nosm,sigmay_nosm,sigmatx_nosm,sigmaty_nosm,sigmax_wsm,sigmay_wsm,sigmatx_wsm,sigmaty_wsm,thr_wsm_list,thr_nosm_list\n",
    "\n",
    "\n",
    "\n",
    "        \n",
    "\n",
    "\n",
    "\n",
    "\n",
    "\n"
   ]
  },
  {
   "cell_type": "code",
   "execution_count": 253,
   "metadata": {},
   "outputs": [],
   "source": [
    "def removezeros(listwithzerosX,listwithzerosY,listwithzerosZ):\n",
    "    listwithoutzerosX = []\n",
    "    listwithoutzerosY = []\n",
    "    listwithoutzerosZ = []\n",
    "    for item in range(0,len(listwithzerosZ)):\n",
    "        if listwithzerosZ[item] > 0:\n",
    "            listwithoutzerosX.append(listwithzerosX[item])\n",
    "            listwithoutzerosY.append(listwithzerosY[item])\n",
    "            listwithoutzerosZ.append(listwithzerosZ[item])\n",
    "    return listwithoutzerosX,listwithoutzerosY,listwithoutzerosZ"
   ]
  },
  {
   "cell_type": "code",
   "execution_count": 214,
   "metadata": {},
   "outputs": [],
   "source": [
    "def whichconfig(uzlist,vzlist):\n",
    "    isassigned = False\n",
    "    if len(uzlist)>0 and len(vzlist)>0:\n",
    "        uz0 = uzlist[0]; vz0 = vzlist[len(vzlist)-1]\n",
    "        if (uz0-vz0)!=0 and 0<vz0<800 and 2000<uz0<3000:\n",
    "            isassigned=True\n",
    "            return 'VeloUT' #best because most precise slope (long)\n",
    "    if len(uzlist)>1:\n",
    "        uz0 = uzlist[0]; uz1 = uzlist[len(uzlist)-1]\n",
    "        if (uz1-uz0)!= 0 and 2000<uz0<uz1<3000:\n",
    "            isassigned=True\n",
    "            return 'UTUT' #better than velovelo because hits are closer -> error propagated less\n",
    "    if len(vzlist)>1:\n",
    "        vz0 = vzlist[0]; vz1 = vzlist[len(vzlist)-1]\n",
    "        if (vz1-vz0)!=0 and 0<vz0<vz1<800:\n",
    "            isassigned=True\n",
    "            return 'VeloVelo'\n",
    "    if isassigned == False:\n",
    "        return -1\n",
    "    \n",
    "\n",
    "def isvelout(uzlist,vzlist):\n",
    "    isassigned = False\n",
    "    if len(uzlist)>0 and len(vzlist)>0:\n",
    "        uz0 = uzlist[0]; vz0 = vzlist[len(vzlist)-1]\n",
    "        if (uz0-vz0)!=0 and 0<vz0<800 and 2000<uz0<3000:\n",
    "            isassigned=True\n",
    "            return 'VeloUT' #best because most precise slope (long)\n",
    "    if isassigned == False:\n",
    "        return -1\n",
    "    \n",
    "def isutut(uzlist,vzlist):\n",
    "    isassigned = False\n",
    "    if len(uzlist)>1:\n",
    "        uz0 = uzlist[0]; uz1 = uzlist[len(uzlist)-1]\n",
    "        if (uz1-uz0)!= 0 and 2000<uz0<uz1<3000:\n",
    "            isassigned=True\n",
    "            return 'UTUT' #better than velovelo because hits are closer -> error propagated less\n",
    "    if isassigned == False:\n",
    "        return -1\n",
    "\n",
    "    \n",
    "def isvelovelo(uzlist,vzlist):\n",
    "    isassigned = False\n",
    "    if len(vzlist)>1:\n",
    "        vz0 = vzlist[0]; vz1 = vzlist[len(vzlist)-1]\n",
    "        if (vz1-vz0)!=0 and 0<vz0<vz1<800:\n",
    "            isassigned=True\n",
    "            return 'VeloVelo'\n",
    "    if isassigned == False:\n",
    "        return -1\n",
    "    "
   ]
  },
  {
   "cell_type": "code",
   "execution_count": null,
   "metadata": {},
   "outputs": [],
   "source": []
  },
  {
   "cell_type": "code",
   "execution_count": 215,
   "metadata": {},
   "outputs": [],
   "source": [
    "# pixel smearing in mightyIT\n",
    "resx_mit = 0.1/TMath.Sqrt(12)\n",
    "resy_mit = 0.4/TMath.Sqrt(12)\n",
    "# strips smearing outside mightyIT\n",
    "resx_sf = 0.25/TMath.Sqrt(12)\n",
    "resy_sf = 0.25/TMath.Cos(5.*np.pi/180.) #takes into account 5° tilting\n"
   ]
  },
  {
   "cell_type": "code",
   "execution_count": 216,
   "metadata": {},
   "outputs": [],
   "source": [
    "#function that checks if a point (format: (x,y)) is inside the MightyIT region\n",
    "\n",
    "def MightyITregion():\n",
    "    dx = 540\n",
    "    dy = 200\n",
    "    \n",
    "    polygon = Polygon([(-4*dx,1*dy),(-3*dx,1*dy),(-3*dx,2*dy),(-2*dx,2*dy),(-2*dx,3*dy),(-1*dx,3*dy),(-1*dx,4*dy),\n",
    "                      (1*dx,4*dy),(1*dx,3*dy),(2*dx,3*dy),(2*dx,2*dy),(3*dx,2*dy),(3*dx,1*dy),(4*dx,1*dy),\n",
    "                      (4*dx,-1*dy),(3*dx,-1*dy),(3*dx,-2*dy),(2*dx,-2*dy),(2*dx,-3*dy),(1*dx,-3*dy),(1*dx,-4*dy),\n",
    "                      (-1*dx,-4*dy),(-1*dx,-3*dy),(-2*dx,-3*dy),(-2*dx,-2*dy),(-3*dx,-2*dy),(-3*dx,-1*dy),(-4*dx,-1*dy)])\n",
    "    return polygon\n",
    "    \n",
    "def is_inregion(point):\n",
    "    point = Point(point[0], point[1])\n",
    "           \n",
    "    region = MightyITregion()\n",
    "    if region.contains(point):\n",
    "        return True\n",
    "    else:\n",
    "        return False\n",
    "    "
   ]
  },
  {
   "cell_type": "code",
   "execution_count": 218,
   "metadata": {},
   "outputs": [],
   "source": [
    "def ChiSquareVeloT(xv0, yv0, zv0, xv1, yv1, zv1, xt0, yt0, zt0, xt1, yt1, zt1, zmag, sigma2x,sigma2y,sigma2tx,sigma2ty, smearing=False):\n",
    "    \n",
    "    #gaussian smearing - pixel resolutions x and y according to if in mightyit region or outside\n",
    "    if smearing == True:\n",
    "        if (is_inregion([xt0,yt0]) == True):\n",
    "            xt0 = gRandom.Gaus(xt0,resx_mit)\n",
    "            yt0 = gRandom.Gaus(yt0,resy_mit)\n",
    "        else:\n",
    "            xt0 = gRandom.Gaus(xt0,resx_sf)\n",
    "            yt0 = gRandom.Gaus(yt0,resy_sf)\n",
    "            xt0 = gRandom.Gaus(xt0,resx_sf)\n",
    "            yt0 = gRandom.Gaus(yt0,resy_sf)\n",
    "            \n",
    "        if (is_inregion([xt1,yt1]) == True):\n",
    "            xt1 = gRandom.Gaus(xt1,resx_mit)\n",
    "            yt1 = gRandom.Gaus(yt1,resy_mit)\n",
    "        else:\n",
    "            xt1 = gRandom.Gaus(xt1,resx_sf)\n",
    "            yt1 = gRandom.Gaus(yt1,resy_sf)\n",
    "            \n",
    " \n",
    "        \n",
    "    tyV=(yv1 - yv0)/(zv1 - zv0)\n",
    "    txV=(xv1 - xv0)/(zv1 - zv0)\n",
    "    tyT=(yt1 - yt0)/(zt1 - zt0)\n",
    "    txT=(xt1 - xt0)/(zt1 - zt0)\n",
    "\n",
    "    #zmag calculations\n",
    "    xVzmag=xv1+(zmag-zv1)*txV\n",
    "    yVzmag=yv1+(zmag-zv1)*tyV\n",
    "       \n",
    "    \n",
    "    #chi2 calculations\n",
    "    txPre=(xt0-xVzmag)/(zt0-zmag)\n",
    "    tyPre=(yt0-yVzmag)/(zt0-zmag)\n",
    "\n",
    "    #extrapolated point from zmag to t station, with the same slope of the t track\n",
    "    xT_ex=xVzmag+(zt0-zmag)*txT\n",
    "    #from velo to t track with velo slope\n",
    "    yT_ex=yv1+(zt0-zv1)*tyV\n",
    "    \n",
    "    chi2 = (txPre-txT)*(txPre-txT)/sigma2tx+(tyPre-tyT)*(tyPre-tyT)/sigma2ty + (yT_ex-yt0)*(yT_ex-yt0)/sigma2y + (xT_ex-xt0)*(xT_ex-xt0)/sigma2x \n",
    "\n",
    "\n",
    "    return chi2, (xT_ex-xt0), (yT_ex-yt0), (txPre-txT), (tyPre-tyT)"
   ]
  },
  {
   "cell_type": "code",
   "execution_count": 107,
   "metadata": {},
   "outputs": [],
   "source": [
    "def reject_outliers(data, nsigma=3):\n",
    "    data = np.array(data)\n",
    "    return data[abs(data - np.mean(data)) < nsigma * np.std(data)]\n"
   ]
  },
  {
   "cell_type": "code",
   "execution_count": 192,
   "metadata": {},
   "outputs": [
    {
     "name": "stderr",
     "output_type": "stream",
     "text": [
      "Warning in <TROOT::Append>: Replacing existing TH1: chihisto_nosm (Potential memory leak).\n",
      "Warning in <TROOT::Append>: Replacing existing TH1: chihisto_wsm (Potential memory leak).\n",
      "Warning in <TROOT::Append>: Replacing existing TH1: scatterx_nosm (Potential memory leak).\n",
      "Warning in <TROOT::Append>: Replacing existing TH1: scattery_nosm (Potential memory leak).\n",
      "Warning in <TROOT::Append>: Replacing existing TH1: scattertx_nosm (Potential memory leak).\n",
      "Warning in <TROOT::Append>: Replacing existing TH1: scatterty_nosm (Potential memory leak).\n",
      "Warning in <TROOT::Append>: Replacing existing TH1: scatterx_wsm (Potential memory leak).\n",
      "Warning in <TROOT::Append>: Replacing existing TH1: scattery_wsm (Potential memory leak).\n",
      "Warning in <TROOT::Append>: Replacing existing TH1: scattertx_wsm (Potential memory leak).\n",
      "Warning in <TROOT::Append>: Replacing existing TH1: scatterty_wsm (Potential memory leak).\n"
     ]
    }
   ],
   "source": [
    "Nbins=100; nrange=5\n",
    "chihisto_nosm=TH1F(\"chihisto_nosm\",\"\",Nbins,0, nrange)\n",
    "chihisto_wsm=TH1F(\"chihisto_wsm\",\"\",Nbins,0, nrange)\n",
    "\n",
    "histolimx = 50\n",
    "histolimy = 50\n",
    "scatterx_nosm=TH1F(\"scatterx_nosm\",\"\",Nbins,-histolimx, +histolimx)\n",
    "scattery_nosm=TH1F(\"scattery_nosm\",\"\",Nbins,-histolimy, +histolimy)\n",
    "\n",
    "histolimtx = 0.01\n",
    "histolimty = 0.01\n",
    "scattertx_nosm=TH1F(\"scattertx_nosm\",\"\",Nbins,-histolimtx, +histolimtx)\n",
    "scatterty_nosm=TH1F(\"scatterty_nosm\",\"\",Nbins,-histolimty, +histolimty)\n",
    "\n",
    "histolimx = 50\n",
    "histolimy = 50\n",
    "scatterx_wsm=TH1F(\"scatterx_wsm\",\"\",Nbins,-2*histolimx, +2*histolimx)\n",
    "scattery_wsm=TH1F(\"scattery_wsm\",\"\",Nbins,-2*histolimy, +2*histolimy)\n",
    "\n",
    "histolimtx = 0.01\n",
    "histolimty = 0.01\n",
    "scattertx_wsm=TH1F(\"scattertx_wsm\",\"\",Nbins,-2*histolimtx, +2*histolimtx)\n",
    "scatterty_wsm=TH1F(\"scatterty_wsm\",\"\",Nbins,-2*histolimty, +2*histolimty)"
   ]
  },
  {
   "cell_type": "code",
   "execution_count": 193,
   "metadata": {},
   "outputs": [
    {
     "name": "stdout",
     "output_type": "stream",
     "text": [
      "5290.0\n"
     ]
    },
    {
     "ename": "KeyboardInterrupt",
     "evalue": "",
     "output_type": "error",
     "traceback": [
      "\u001b[0;31m\u001b[0m",
      "\u001b[0;31mKeyboardInterrupt\u001b[0mTraceback (most recent call last)",
      "\u001b[0;32m/cvmfs/sft.cern.ch/lcg/views/LCG_95a/x86_64-centos7-gcc7-opt/lib/libPyROOT.so\u001b[0m in \u001b[0;36m<module>\u001b[0;34m()\u001b[0m\n",
      "\u001b[0;32m/cvmfs/sft.cern.ch/lcg/views/LCG_95a/x86_64-centos7-gcc7-opt/lib/libPyROOT.so\u001b[0m in \u001b[0;36mremovezeros\u001b[0;34m(listwithzerosX, listwithzerosY, listwithzerosZ)\u001b[0m\n",
      "\u001b[0;31mKeyboardInterrupt\u001b[0m: "
     ]
    }
   ],
   "source": [
    "######################################\n",
    "# testing smearing: zmag fine tuning #\n",
    "######################################\n",
    "\n",
    "maxNevent = 5000\n",
    "\n",
    "meansx_nosm = []\n",
    "meansy_nosm = []\n",
    "meanstx_nosm = []\n",
    "meansty_nosm = []\n",
    "\n",
    "range_as =  np.linspace(5290,5300,4)\n",
    "for zmag in range_as:\n",
    "    \n",
    "    print(zmag)\n",
    "\n",
    "\n",
    "    list_chi_wsm = []\n",
    "    list_chi_nosm = []\n",
    "    list_scx_wsm = []\n",
    "    list_scx_nosm = []\n",
    "    list_scy_wsm = []\n",
    "    list_scy_nosm = []\n",
    "    list_sctx_wsm = []\n",
    "    list_sctx_nosm = []\n",
    "    list_scty_wsm = []\n",
    "    list_scty_nosm = []\n",
    "\n",
    "    #TESTING SEARCH WINDOWS\n",
    "    #after noting an asymmetry in distribution depending on the sign of the charge, the zmag has been found from the data. around 5100\n",
    "    #fine tuning: looking for the best zmag coordinate to have a symmetric distribution of deltax and deltatx with charge>0\n",
    "\n",
    "    nEvent = 0\n",
    "    for event in ch1:\n",
    "        \n",
    "        velolistsxyz = removezeros(event.HitVeloXpos,event.HitVeloYpos,event.HitVeloZpos)\n",
    "        velolistsx = velolistsxyz[0];velolistsy = velolistsxyz[1];velolistsz = velolistsxyz[2]\n",
    "\n",
    "        utlistsxyz = removezeros(event.HitUTXpos,event.HitUTYpos,event.HitUTZpos)\n",
    "        utlistsx = utlistsxyz[0];utlistsy = utlistsxyz[1];utlistsz = utlistsxyz[2]\n",
    "\n",
    "        tlistsxyz = removezeros(event.HitXpos,event.HitYpos,event.HitZpos)\n",
    "        tlistsx = tlistsxyz[0];tlistsy = tlistsxyz[1];tlistsz = tlistsxyz[2]\n",
    "\n",
    "\n",
    "        eventconfig = whichconfig(utlistsz,velolistsz)\n",
    "        #if (isvelout(utlistsz,velolistsz)) == 'VeloUT':\n",
    "            #xv0=velolistsx[0];  yv0 = velolistsy[0]; zv0 = velolistsz[0];\n",
    "            #xv1=utlistsx[len(utlistsz)-1];  yv1 = utlistsy[len(utlistsz)-1]; zv1 = utlistsz[len(utlistsz)-1];\n",
    "            #eventconfig = 'VeloUT'\n",
    "        #if (isutut(utlistsz,velolistsz)) == 'UTUT':\n",
    "            #xv0=utlistsx[0];  yv0 = utlistsy[0]; zv0 = utlistsz[0];\n",
    "            #xv1=utlistsx[len(utlistsz)-1];  yv1 = utlistsy[len(utlistsz)-1]; zv1 = utlistsz[len(utlistsz)-1];\n",
    "            #eventconfig = 'UTUT'\n",
    "        if (isvelovelo(utlistsz,velolistsz)) == 'VeloVelo':\n",
    "            xv0=velolistsx[0];  yv0 = velolistsy[0]; zv0 = velolistsz[0];\n",
    "            xv1=velolistsx[len(velolistsz)-1];  yv1 = velolistsy[len(velolistsz)-1]; zv1 = velolistsz[len(velolistsz)-1];\n",
    "            eventconfig = 'VeloVelo'\n",
    "            \n",
    "            configvars = upstreamConfig(eventconfig)\n",
    "\n",
    "            sigmax_nosm=upstreamConfig(eventconfig)[1]\n",
    "            sigmay_nosm=upstreamConfig(eventconfig)[2]\n",
    "            sigmatx_nosm=upstreamConfig(eventconfig)[3]\n",
    "            sigmaty_nosm=upstreamConfig(eventconfig)[4]\n",
    "            sigmax_wsm=upstreamConfig(eventconfig)[5]\n",
    "            sigmay_wsm=upstreamConfig(eventconfig)[6]\n",
    "            sigmatx_wsm=upstreamConfig(eventconfig)[7]\n",
    "            sigmaty_wsm=upstreamConfig(eventconfig)[8]\n",
    "            thr_wsm_list=upstreamConfig(eventconfig)[9]\n",
    "            thr_nosm_list=upstreamConfig(eventconfig)[10]\n",
    "\n",
    "            #selecting some long tracks for event in ch1 and cut for !=0 else division/0\n",
    "            if len(tlistsz)>1:\n",
    "                if (tlistsz[len(tlistsz)-1]>tlistsz[0]>7000 and tlistsz[len(tlistsz)-1]-tlistsz[0] != 0):\n",
    "                    nEvent = nEvent+1\n",
    "\n",
    "                    xt0=tlistsx[0];  yt0 = tlistsy[0]; zt0 = tlistsz[0];\n",
    "                    xt1=tlistsx[len(tlistsz)-1];  yt1 = tlistsy[len(tlistsz)-1]; zt1 = tlistsz[len(tlistsz)-1];\n",
    "                    vp = event.p \n",
    "\n",
    "                            \n",
    "        \n",
    "                    #testing asymmetry: add if event.qop>0\n",
    "                    if event.qop<0:\n",
    "                        smearing = False\n",
    "\n",
    "                        #sigma squared\n",
    "                        sigma2x=pow(sigmax_nosm,2)\n",
    "                        sigma2y=pow(sigmay_nosm,2)\n",
    "                        sigma2tx=pow(sigmatx_nosm,2)\n",
    "                        sigma2ty=pow(sigmaty_nosm,2)\n",
    "\n",
    "                        chi2_astest = ChiSquareVeloT(xv0, yv0, zv0, xv1, yv1, zv1, xt0, yt0, zt0, xt1, yt1, zt1 , zmag,sigma2x,sigma2y,sigma2tx,sigma2ty, smearing=smearing)\n",
    "                        chihisto_nosm.Fill(chi2_astest[0])\n",
    "                        list_chi_nosm.append(chi2_astest[0])\n",
    "                        scatterx_nosm.Fill(chi2_astest[1])\n",
    "                        list_scx_nosm.append(chi2_astest[1])\n",
    "                        scattery_nosm.Fill(chi2_astest[2])\n",
    "                        list_scy_nosm.append(chi2_astest[2])\n",
    "                        scattertx_nosm.Fill(chi2_astest[3])\n",
    "                        list_sctx_nosm.append(chi2_astest[3])\n",
    "                        scatterty_nosm.Fill(chi2_astest[4])\n",
    "                        list_scty_nosm.append(chi2_astest[4])\n",
    "\n",
    "                if(nEvent > maxNevent):\n",
    "                    break\n",
    "\n",
    "\n",
    "    meansx_nosm.append(np.mean(reject_outliers(list_scx_nosm)))\n",
    "    meansy_nosm.append(np.mean(reject_outliers(list_scy_nosm)))\n",
    "    meanstx_nosm.append(np.mean(reject_outliers(list_sctx_nosm)))\n",
    "    meansty_nosm.append(np.mean(reject_outliers(list_scty_nosm)))\n",
    "\n",
    "\n",
    "\n",
    "\n"
   ]
  },
  {
   "cell_type": "code",
   "execution_count": 182,
   "metadata": {
    "scrolled": true
   },
   "outputs": [
    {
     "data": {
      "image/png": "[encoded data removed]",
      "text/plain": [
       "<Figure size 432x288 with 1 Axes>"
      ]
     },
     "metadata": {},
     "output_type": "display_data"
    },
    {
     "data": {
      "image/png": "[encoded data removed]",
      "text/plain": [
       "<Figure size 432x288 with 1 Axes>"
      ]
     },
     "metadata": {},
     "output_type": "display_data"
    },
    {
     "data": {
      "image/png": "[encoded data removed]",
      "text/plain": [
       "<Figure size 432x288 with 1 Axes>"
      ]
     },
     "metadata": {},
     "output_type": "display_data"
    },
    {
     "data": {
      "image/png": "[encoded data removed]",
      "text/plain": [
       "<Figure size 432x288 with 1 Axes>"
      ]
     },
     "metadata": {},
     "output_type": "display_data"
    }
   ],
   "source": [
    "### testing asymmetry, to find zmag fine tuning, \n",
    "plt.scatter(range_as,meansx_nosm )\n",
    "plt.show()\n",
    "plt.scatter(range_as,meansy_nosm )\n",
    "plt.show()\n",
    "plt.scatter(range_as,meanstx_nosm )\n",
    "plt.show()\n",
    "plt.scatter(range_as,meansty_nosm )\n",
    "plt.show()\n"
   ]
  },
  {
   "cell_type": "code",
   "execution_count": 207,
   "metadata": {},
   "outputs": [
    {
     "name": "stdout",
     "output_type": "stream",
     "text": [
      "('\\n', 20000)\n"
     ]
    }
   ],
   "source": [
    "###################################################\n",
    "# testing smearing: finding sigmas and thresholds #\n",
    "###################################################\n",
    "\n",
    "\n",
    "#update found zmag \n",
    "\n",
    "stdsx_nosm = []\n",
    "stdsy_nosm = []\n",
    "stdstx_nosm = []\n",
    "stdsty_nosm = []\n",
    "\n",
    "stdsx_wsm = []\n",
    "stdsy_wsm = []\n",
    "stdstx_wsm = []\n",
    "stdsty_wsm = []\n",
    "\n",
    "\n",
    "rangex =range(20000,20001,1) #for chi2 threshold\n",
    "#rangex =np.linspace(8000,16000,10) #for smearing\n",
    "for maxNevent in rangex:\n",
    "    \n",
    "    print('\\n', maxNevent)\n",
    "\n",
    "    list_chi_wsm = []\n",
    "    list_chi_nosm = []\n",
    "    list_scx_wsm = []\n",
    "    list_scx_nosm = []\n",
    "    list_scy_wsm = []\n",
    "    list_scy_nosm = []\n",
    "    list_sctx_wsm = []\n",
    "    list_sctx_nosm = []\n",
    "    list_scty_wsm = []\n",
    "    list_scty_nosm = []\n",
    "\n",
    "\n",
    "\n",
    "    #TESTING SEARCH WINDOWS\n",
    "    #after noting an asymmetry in distribution depending on the sign of the charge, the zmag has been found from the data. around 5100\n",
    "    #fine tuning: looking for the best zmag coordinate to have a symmetric distribution of deltax and deltatx with charge>0\n",
    "\n",
    "    nEvent = 0\n",
    "    for event in ch1:\n",
    "        \n",
    "        velolistsxyz = removezeros(event.HitVeloXpos,event.HitVeloYpos,event.HitVeloZpos)\n",
    "        velolistsx = velolistsxyz[0];velolistsy = velolistsxyz[1];velolistsz = velolistsxyz[2]\n",
    "\n",
    "        utlistsxyz = removezeros(event.HitUTXpos,event.HitUTYpos,event.HitUTZpos)\n",
    "        utlistsx = utlistsxyz[0];utlistsy = utlistsxyz[1];utlistsz = utlistsxyz[2]\n",
    "\n",
    "        tlistsxyz = removezeros(event.HitXpos,event.HitYpos,event.HitZpos)\n",
    "        tlistsx = tlistsxyz[0];tlistsy = tlistsxyz[1];tlistsz = tlistsxyz[2]\n",
    "\n",
    "\n",
    "        eventconfig = whichconfig(utlistsz,velolistsz)\n",
    "        #if (isvelout(utlistsz,velolistsz)) == 'VeloUT':\n",
    "            #xv0=velolistsx[0];  yv0 = velolistsy[0]; zv0 = velolistsz[0];\n",
    "            #xv1=utlistsx[len(utlistsz)-1];  yv1 = utlistsy[len(utlistsz)-1]; zv1 = utlistsz[len(utlistsz)-1];\n",
    "            #eventconfig = 'VeloUT'\n",
    "        #if (isutut(utlistsz,velolistsz)) == 'UTUT':\n",
    "            #xv0=utlistsx[0];  yv0 = utlistsy[0]; zv0 = utlistsz[0];\n",
    "            #xv1=utlistsx[len(utlistsz)-1];  yv1 = utlistsy[len(utlistsz)-1]; zv1 = utlistsz[len(utlistsz)-1];\n",
    "            #eventconfig = 'UTUT'\n",
    "        if (isvelovelo(utlistsz,velolistsz)) == 'VeloVelo':\n",
    "            xv0=velolistsx[0];  yv0 = velolistsy[0]; zv0 = velolistsz[0];\n",
    "            xv1=velolistsx[len(velolistsz)-1];  yv1 = velolistsy[len(velolistsz)-1]; zv1 = velolistsz[len(velolistsz)-1];\n",
    "            eventconfig = 'VeloVelo'\n",
    "            \n",
    "            \n",
    "            configvars = upstreamConfig(eventconfig)\n",
    "\n",
    "            sigmax_nosm=upstreamConfig(eventconfig)[1]\n",
    "            sigmay_nosm=upstreamConfig(eventconfig)[2]\n",
    "            sigmatx_nosm=upstreamConfig(eventconfig)[3]\n",
    "            sigmaty_nosm=upstreamConfig(eventconfig)[4]\n",
    "            sigmax_wsm=upstreamConfig(eventconfig)[5]\n",
    "            sigmay_wsm=upstreamConfig(eventconfig)[6]\n",
    "            sigmatx_wsm=upstreamConfig(eventconfig)[7]\n",
    "            sigmaty_wsm=upstreamConfig(eventconfig)[8]\n",
    "            thr_wsm_list=upstreamConfig(eventconfig)[9]\n",
    "            thr_nosm_list=upstreamConfig(eventconfig)[10]\n",
    "\n",
    "            #selecting some long tracks for event in ch1 and cut for !=0 else division/0\n",
    "            if len(tlistsz)>1:\n",
    "                if (tlistsz[len(tlistsz)-1]>tlistsz[0]>7000 and tlistsz[len(tlistsz)-1]-tlistsz[0] != 0):\n",
    "                    nEvent = nEvent+1\n",
    "\n",
    "                    xt0=tlistsx[0];  yt0 = tlistsy[0]; zt0 = tlistsz[0];\n",
    "                    xt1=tlistsx[len(tlistsz)-1];  yt1 = tlistsy[len(tlistsz)-1]; zt1 = tlistsz[len(tlistsz)-1];\n",
    "                    vp = event.p \n",
    "    \n",
    "    \n",
    "\n",
    "\n",
    "                    #testing smearing\n",
    "                    for smearing in [False,True]:\n",
    "\n",
    "                        #change sigmas and windows depending on smearing on/off\n",
    "                        if smearing == False:\n",
    "                            #sigma squared\n",
    "                            sigma2x=pow(sigmax_nosm,2)\n",
    "                            sigma2y=pow(sigmay_nosm,2)\n",
    "                            sigma2tx=pow(sigmatx_nosm,2)\n",
    "                            sigma2ty=pow(sigmaty_nosm,2)\n",
    "\n",
    "                        else:\n",
    "                            #sigma squared\n",
    "                            sigma2x=pow(sigmax_wsm,2)\n",
    "                            sigma2y=pow(sigmay_wsm,2)\n",
    "                            sigma2tx=pow(sigmatx_wsm,2)\n",
    "                            sigma2ty=pow(sigmaty_wsm,2)\n",
    "\n",
    "                        chi2_smtest = ChiSquareVeloT(xv0, yv0, zv0, xv1, yv1, zv1, xt0, yt0, zt0, xt1, yt1, zt1 , zmag, sigma2x,sigma2y,sigma2tx,sigma2ty,smearing=smearing)\n",
    "                        if smearing == True:\n",
    "                            chihisto_wsm.Fill(chi2_smtest[0])\n",
    "                            list_chi_wsm.append(chi2_smtest[0])\n",
    "                            scatterx_wsm.Fill(chi2_smtest[1])\n",
    "                            list_scx_wsm.append(chi2_smtest[1])\n",
    "                            scattery_wsm.Fill(chi2_smtest[2])\n",
    "                            list_scy_wsm.append(chi2_smtest[2])\n",
    "                            scattertx_wsm.Fill(chi2_smtest[3])\n",
    "                            list_sctx_wsm.append(chi2_smtest[3])\n",
    "                            scatterty_wsm.Fill(chi2_smtest[4])\n",
    "                            list_scty_wsm.append(chi2_smtest[4])\n",
    "                        else:\n",
    "                            chihisto_nosm.Fill(chi2_smtest[0])\n",
    "                            list_chi_nosm.append(chi2_smtest[0])\n",
    "                            scatterx_nosm.Fill(chi2_smtest[1])\n",
    "                            list_scx_nosm.append(chi2_smtest[1])\n",
    "                            scattery_nosm.Fill(chi2_smtest[2])\n",
    "                            list_scy_nosm.append(chi2_smtest[2])\n",
    "                            scattertx_nosm.Fill(chi2_smtest[3])\n",
    "                            list_sctx_nosm.append(chi2_smtest[3])\n",
    "                            scatterty_nosm.Fill(chi2_smtest[4])\n",
    "                            list_scty_nosm.append(chi2_smtest[4])\n",
    "  \n",
    "        if(nEvent > maxNevent):\n",
    "            break\n",
    "    \n",
    "    stdsx_nosm.append(np.std(reject_outliers(list_scx_nosm)))\n",
    "    stdsy_nosm.append(np.std(reject_outliers(list_scy_nosm)))\n",
    "    stdstx_nosm.append(np.std(reject_outliers(list_sctx_nosm)))\n",
    "    stdsty_nosm.append(np.std(reject_outliers(list_scty_nosm)))\n",
    "    \n",
    "    stdsx_wsm.append(np.std(reject_outliers(list_scx_wsm)))\n",
    "    stdsy_wsm.append(np.std(reject_outliers(list_scy_wsm)))\n",
    "    stdstx_wsm.append(np.std(reject_outliers(list_sctx_wsm)))\n",
    "    stdsty_wsm.append(np.std(reject_outliers(list_scty_wsm)))\n"
   ]
  },
  {
   "cell_type": "code",
   "execution_count": 200,
   "metadata": {
    "scrolled": true
   },
   "outputs": [
    {
     "name": "stdout",
     "output_type": "stream",
     "text": [
      "no smearing\n",
      "61.52105947242333\n",
      "12.16095195565505\n",
      "0.024080331974308512\n",
      "0.00941706229912628\n",
      "\n",
      "\n",
      "with smearing\n",
      "61.4708412585179\n",
      "12.162756515374987\n",
      "0.02411345520658027\n",
      "0.00947908252344232\n"
     ]
    }
   ],
   "source": [
    "#mean of stds after it becomes stable\n",
    "\n",
    "\n",
    "print 'no smearing'\n",
    "print(np.mean(stdsx_nosm))\n",
    "print(np.mean(stdsy_nosm))\n",
    "print(np.mean(stdstx_nosm))\n",
    "print(np.mean(stdsty_nosm))\n",
    "\n",
    "print '\\n'\n",
    "print 'with smearing'\n",
    "print(np.mean(stdsx_wsm))\n",
    "print(np.mean(stdsy_wsm))\n",
    "print(np.mean(stdstx_wsm))\n",
    "print(np.mean(stdsty_wsm))\n"
   ]
  },
  {
   "cell_type": "code",
   "execution_count": 196,
   "metadata": {},
   "outputs": [
    {
     "data": {
      "image/png": "[encoded data removed]",
      "text/plain": [
       "<Figure size 432x288 with 1 Axes>"
      ]
     },
     "metadata": {},
     "output_type": "display_data"
    },
    {
     "data": {
      "image/png": "[encoded data removed]",
      "text/plain": [
       "<Figure size 432x288 with 1 Axes>"
      ]
     },
     "metadata": {},
     "output_type": "display_data"
    },
    {
     "data": {
      "image/png": "[encoded data removed]",
      "text/plain": [
       "<Figure size 432x288 with 1 Axes>"
      ]
     },
     "metadata": {},
     "output_type": "display_data"
    },
    {
     "data": {
      "image/png": "[encoded data removed]",
      "text/plain": [
       "<Figure size 432x288 with 1 Axes>"
      ]
     },
     "metadata": {},
     "output_type": "display_data"
    }
   ],
   "source": [
    "#to find sigmas with and with smearing\n",
    "plt.scatter(rangex,stdsx_wsm )\n",
    "plt.show()\n",
    "plt.scatter(rangex,stdsy_wsm )\n",
    "plt.show()\n",
    "plt.scatter(rangex,stdstx_wsm )\n",
    "plt.show()\n",
    "plt.scatter(rangex,stdsty_wsm )\n",
    "plt.show()"
   ]
  },
  {
   "cell_type": "code",
   "execution_count": 197,
   "metadata": {},
   "outputs": [
    {
     "data": {
      "image/png": "[encoded data removed]",
      "text/plain": [
       "<Figure size 432x288 with 1 Axes>"
      ]
     },
     "metadata": {},
     "output_type": "display_data"
    },
    {
     "data": {
      "image/png": "[encoded data removed]",
      "text/plain": [
       "<Figure size 432x288 with 1 Axes>"
      ]
     },
     "metadata": {},
     "output_type": "display_data"
    },
    {
     "data": {
      "image/png": "[encoded data removed]",
      "text/plain": [
       "<Figure size 432x288 with 1 Axes>"
      ]
     },
     "metadata": {},
     "output_type": "display_data"
    },
    {
     "data": {
      "image/png": "[encoded data removed]",
      "text/plain": [
       "<Figure size 432x288 with 1 Axes>"
      ]
     },
     "metadata": {},
     "output_type": "display_data"
    }
   ],
   "source": [
    "#to find sigmas with and without smearing\n",
    "plt.scatter(rangex,stdsx_nosm )\n",
    "plt.show()\n",
    "plt.scatter(rangex,stdsy_nosm )\n",
    "plt.show()\n",
    "plt.scatter(rangex,stdstx_nosm )\n",
    "plt.show()\n",
    "plt.scatter(rangex,stdsty_nosm )\n",
    "plt.show()"
   ]
  },
  {
   "cell_type": "code",
   "execution_count": 208,
   "metadata": {},
   "outputs": [
    {
     "name": "stdout",
     "output_type": "stream",
     "text": [
      "9858\n",
      "([80, 81, 82, 83, 84, 85, 86, 87, 88, 89, 90, 91, 92, 93, 94, 95, 96, 97, 98, 99], [2.81, 3.15, 3.54, 4.03, 4.57, 5.24, 6.01, 6.9, 8.28, 9.61, 11.04, 13.48, 16.36, 20.3, 25.23, 32.07, 41.24, 56.95, 82.72, 150.18], [3.01, 3.37, 3.78, 4.24, 4.81, 5.6, 6.33, 7.29, 8.71, 10.17, 11.74, 14.16, 16.84, 21.13, 26.55, 33.26, 43.18, 57.28, 85.16, 155.98])\n"
     ]
    }
   ],
   "source": [
    "#update found sigmas and print the threshold for the chi2 to include a percentage of long track chi2s when cutting below threshold\n",
    "\n",
    "perc_list = []\n",
    "thr_wsm_list = []\n",
    "thr_nosm_list = []\n",
    "\n",
    "list_chi_wsm.sort()\n",
    "list_chi_nosm.sort()\n",
    "\n",
    "\n",
    "\n",
    "print(len(list_chi_wsm))\n",
    "\n",
    "for percentage in range(80,100):\n",
    "    threshold_wsm = list_chi_wsm[len(list_chi_wsm)/100*percentage]\n",
    "    threshold_nosm = list_chi_nosm[len(list_chi_nosm)/100*percentage]\n",
    "    perc_list.append(percentage)\n",
    "    thr_wsm_list.append(round(threshold_wsm,2))\n",
    "    thr_nosm_list.append(round(threshold_nosm,2))\n",
    "    \n",
    "    \n",
    "print(perc_list, thr_nosm_list, thr_wsm_list)"
   ]
  },
  {
   "cell_type": "code",
   "execution_count": null,
   "metadata": {},
   "outputs": [],
   "source": [
    "#### PLOTS #####\n",
    "\n",
    "c9=TCanvas(\"c9\",\"\",1300,900)\n",
    "chihisto_nosm.SetLineColor(kBlue)\n",
    "chihisto_nosm.Draw()\n",
    "chihisto_wsm.SetLineColor(kRed)\n",
    "chihisto_wsm.Draw(\"SAME\")\n",
    "c9.SaveAs(\"dist_chi2_wwo_smearing.png\")"
   ]
  },
  {
   "cell_type": "code",
   "execution_count": null,
   "metadata": {},
   "outputs": [],
   "source": [
    "#plot deltax, y tx, ty distributions with no smearing\n",
    "\n",
    "\n",
    "\n",
    "c5=TCanvas(\"c5\",\"\",1300,900)\n",
    "\n",
    "c5.Divide(2,2)\n",
    "\n",
    "c5.cd(1)\n",
    "funcx= TF1(\"funcx\", \"gaus\", -histolimx, +histolimx)\n",
    "funcx.SetParameters(500,0,0)\n",
    "fitresult_x = scatterx_nosm.Fit(funcx)\n",
    "print(funcx.GetParameter(2))\n",
    "#scatterx_nosm.Draw()\n",
    "\n",
    "\n",
    "\n",
    "\n",
    "c5.cd(2)\n",
    "funcy = TF1(\"funcy\", \"gaus\", -histolimy, +histolimy)\n",
    "funcy.SetParameters(500,0,0)\n",
    "fitresult_y = scattery_nosm.Fit(funcy)\n",
    "print(funcy.GetParameter(2))\n",
    "#scattery_nosm.Draw()\n",
    "\n",
    "\n",
    "\n",
    "c5.cd(3)\n",
    "funct = TF1(\"functx\", \"gaus\", -histolimtx, +histolimtx)\n",
    "functx.SetParameters(500,0,0)\n",
    "fitresult_tx = scattertx_nosm.Fit(functx)\n",
    "print(functx.GetParameter(2))\n",
    "#scattertx_nosm.Draw()\n",
    "\n",
    "c5.cd(4)\n",
    "functy = TF1(\"functy\", \"gaus\", -histolimty, +histolimty)\n",
    "functy.SetParameters(500,0,0)\n",
    "fitresult_ty = scatterty_nosm.Fit(functy)\n",
    "print(functy.GetParameter(2))\n",
    "scatterty_nosm.Draw()\n",
    "\n",
    "\n",
    "c5.SaveAs(\"dist_testing_deltas_nosmearing.png\")"
   ]
  },
  {
   "cell_type": "code",
   "execution_count": null,
   "metadata": {},
   "outputs": [],
   "source": [
    "#plot deltax, y tx, ty distributions with smearing\n",
    "\n",
    "\n",
    "\n",
    "c1=TCanvas(\"c5\",\"\",1300,900)\n",
    "\n",
    "c1.Divide(2,2)\n",
    "\n",
    "c1.cd(1)\n",
    "funcx= TF1(\"funcx\", \"gaus\", -histolimx, +histolimx)\n",
    "funcx.SetParameters(500,0,0)\n",
    "fitresult_x = scatterx_wsm.Fit(funcx)\n",
    "print(funcx.GetParameter(2))\n",
    "scatterx_wsm.Draw()\n",
    "\n",
    "\n",
    "\n",
    "\n",
    "c1.cd(2)\n",
    "funcy = TF1(\"funcy\", \"gaus\", -histolimy, +histolimy)\n",
    "funcy.SetParameters(500,0,0)\n",
    "fitresult_y = scattery_wsm.Fit(funcy)\n",
    "print(funcy.GetParameter(2))\n",
    "scattery_wsm.Draw()\n",
    "\n",
    "\n",
    "\n",
    "c1.cd(3)\n",
    "funct = TF1(\"functx\", \"gaus\", -histolimtx, +histolimtx)\n",
    "functx.SetParameters(500,0,0)\n",
    "fitresult_tx = scattertx_wsm.Fit(functx)\n",
    "print(functx.GetParameter(2))\n",
    "scattertx_wsm.Draw()\n",
    "\n",
    "c1.cd(4)\n",
    "functy = TF1(\"functy\", \"gaus\", -histolimty, +histolimty)\n",
    "functy.SetParameters(500,0,0)\n",
    "fitresult_ty = scatterty_wsm.Fit(functy)\n",
    "print(functy.GetParameter(2))\n",
    "scatterty_wsm.Draw()\n",
    "\n",
    "\n",
    "c1.SaveAs(\"dist_testing_deltas_smearing.png\")"
   ]
  },
  {
   "cell_type": "code",
   "execution_count": 258,
   "metadata": {},
   "outputs": [
    {
     "name": "stdout",
     "output_type": "stream",
     "text": [
      "(10634, 294, 10228, 5)\n"
     ]
    }
   ],
   "source": [
    "#### COUNTING LONG AND DOWNSTREAM TRACKS ####\n",
    "\n",
    "nLongTracks = 0\n",
    "nDownstreamTracks = 0\n",
    "nVeloVeloLongTracks = 0\n",
    "nstrange = 0\n",
    "\n",
    "for event in ch1:\n",
    "        \n",
    "    eventconfiglist = []\n",
    "\n",
    "    velolistsxyz = removezeros(event.HitVeloXpos,event.HitVeloYpos,event.HitVeloZpos)\n",
    "    velolistsx = velolistsxyz[0];velolistsy = velolistsxyz[1];velolistsz = velolistsxyz[2]\n",
    "\n",
    "    utlistsxyz = removezeros(event.HitUTXpos,event.HitUTYpos,event.HitUTZpos)\n",
    "    utlistsx = utlistsxyz[0];utlistsy = utlistsxyz[1];utlistsz = utlistsxyz[2]\n",
    "\n",
    "    tlistsxyz = removezeros(event.HitXpos,event.HitYpos,event.HitZpos)\n",
    "    tlistsx = tlistsxyz[0];tlistsy = tlistsxyz[1];tlistsz = tlistsxyz[2]\n",
    "\n",
    "\n",
    "    if (isvelout(utlistsz,velolistsz)) == 'VeloUT':\n",
    "        xv0=velolistsx[0];  yv0 = velolistsy[0]; zv0 = velolistsz[0];\n",
    "        xv1=utlistsx[len(utlistsz)-1];  yv1 = utlistsy[len(utlistsz)-1]; zv1 = utlistsz[len(utlistsz)-1];\n",
    "        eventconfiglist.append('VeloUT')\n",
    "    if (isutut(utlistsz,velolistsz)) == 'UTUT':\n",
    "        xv0=utlistsx[0];  yv0 = utlistsy[0]; zv0 = utlistsz[0];\n",
    "        xv1=utlistsx[len(utlistsz)-1];  yv1 = utlistsy[len(utlistsz)-1]; zv1 = utlistsz[len(utlistsz)-1];\n",
    "        eventconfiglist.append('UTUT')\n",
    "    if (isvelovelo(utlistsz,velolistsz)) == 'VeloVelo':\n",
    "        xv0=velolistsx[0];  yv0 = velolistsy[0]; zv0 = velolistsz[0];\n",
    "        xv1=velolistsx[len(velolistsz)-1];  yv1 = velolistsy[len(velolistsz)-1]; zv1 = velolistsz[len(velolistsz)-1];\n",
    "        eventconfiglist.append('VeloVelo')\n",
    "    \n",
    "    if len(eventconfiglist) != 0:\n",
    "\n",
    "\n",
    "        configvars = upstreamConfig(eventconfig)\n",
    "\n",
    "        sigmax_nosm=upstreamConfig(eventconfig)[1]\n",
    "        sigmay_nosm=upstreamConfig(eventconfig)[2]\n",
    "        sigmatx_nosm=upstreamConfig(eventconfig)[3]\n",
    "        sigmaty_nosm=upstreamConfig(eventconfig)[4]\n",
    "        sigmax_wsm=upstreamConfig(eventconfig)[5]\n",
    "        sigmay_wsm=upstreamConfig(eventconfig)[6]\n",
    "        sigmatx_wsm=upstreamConfig(eventconfig)[7]\n",
    "        sigmaty_wsm=upstreamConfig(eventconfig)[8]\n",
    "        thr_wsm_list=upstreamConfig(eventconfig)[9]\n",
    "        thr_nosm_list=upstreamConfig(eventconfig)[10]\n",
    "        \n",
    "\n",
    "        #selecting some long tracks for event in ch1 and cut for !=0 else division/0\n",
    "        if len(tlistsz)>1:\n",
    "            if (tlistsz[len(tlistsz)-1]>tlistsz[0]>7000 and tlistsz[len(tlistsz)-1]-tlistsz[0] != 0):\n",
    "                nLongTracks+=1\n",
    "                if('UTUT' in eventconfiglist and 'VeloUT' not in eventconfiglist and 'VeloVelo' not in eventconfiglist):\n",
    "                    nDownstreamTracks+=1\n",
    "                if('VeloVelo' in eventconfiglist):\n",
    "                    nVeloVeloLongTracks+=1                    \n",
    "                if('UTUT' not in eventconfiglist and 'VeloUT' in eventconfiglist and 'VeloVelo' in eventconfiglist):\n",
    "                    #for item in event.HitUTZpos:\n",
    "                        #print item\n",
    "                    #print '\\n'\n",
    "                    nstrange+=1\n",
    "\n",
    "                \n",
    "                \n",
    "    if(nLongTracks > 100000):\n",
    "        break\n",
    "        \n",
    "print(nLongTracks,nDownstreamTracks,nVeloVeloLongTracks, nstrange)"
   ]
  },
  {
   "cell_type": "code",
   "execution_count": null,
   "metadata": {},
   "outputs": [],
   "source": []
  }
 ],
 "metadata": {
  "kernelspec": {
   "display_name": "Python 3",
   "language": "python",
   "name": "python3"
  },
  "language_info": {
   "codemirror_mode": {
    "name": "ipython",
    "version": 3
   },
   "file_extension": ".py",
   "mimetype": "text/x-python",
   "name": "python",
   "nbconvert_exporter": "python",
   "pygments_lexer": "ipython3",
   "version": "3.7.1"
  }
 },
 "nbformat": 4,
 "nbformat_minor": 2
}
