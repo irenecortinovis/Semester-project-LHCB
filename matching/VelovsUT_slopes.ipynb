{
 "cells": [
  {
   "cell_type": "code",
   "execution_count": 5,
   "metadata": {},
   "outputs": [
    {
     "name": "stderr",
     "output_type": "stream",
     "text": [
      "/eos/user/i/icortino/lhcbStyle.C:7:9: error: redefinition of 'black'\n",
      "  Int_t black  = 1;\n",
      "        ^\n",
      "/eos/user/i/icortino/lhcbStyle.C:7:9: note: previous definition is here\n",
      "  Int_t black  = 1;\n",
      "        ^\n"
     ]
    }
   ],
   "source": [
    "run functions_matching.ipynb"
   ]
  },
  {
   "cell_type": "code",
   "execution_count": 2,
   "metadata": {},
   "outputs": [],
   "source": [
    "run configurations_matching.ipynb"
   ]
  },
  {
   "cell_type": "code",
   "execution_count": 8,
   "metadata": {},
   "outputs": [
    {
     "name": "stdout",
     "output_type": "stream",
     "text": [
      "\n",
      "\n",
      "\n",
      "\n",
      "percentage:  97\n",
      "smearing:  False\n",
      "threshold chi2: :  6000\n"
     ]
    }
   ],
   "source": [
    "smearing = False\n",
    "percentage = 97\n",
    "\n",
    "##### INITIALISE VARIABLES #####\n",
    "\n",
    "timestart = time.time()\n",
    "\n",
    "nVeloUTTracks = 0\n",
    "nentries = ch1.GetEntries()\n",
    "\n",
    "index_perc = perc_list.index(percentage)\n",
    "#threshold_chi2 = thr_nosm_list[index_perc]\n",
    "threshold_chi2 = 6000\n",
    "\n",
    "#lists for slopes\n",
    "txVeloVelo_list=[]\n",
    "tyVeloVelo_list=[]\n",
    "txVeloUT_list=[]\n",
    "tyVeloUT_list=[]\n",
    "txUTUT_list=[]\n",
    "tyUTUT_list=[]\n",
    "\n",
    "difftx_vv_uu_list = []\n",
    "diffty_vv_uu_list = []\n",
    "\n",
    "p_list=[]\n",
    "p_list_10 = []\n",
    "\n",
    "print '\\n\\n\\n\\npercentage: ', percentage \n",
    "print 'smearing: ', smearing \n",
    "print 'threshold chi2: : ', threshold_chi2 \n",
    "\n",
    "##### LOOP #####\n",
    "\n",
    "for event in ch1:\n",
    "    \n",
    "    #positive charge\n",
    "    if event.qop < 0 and event.p>5000:\n",
    "        \n",
    "        velolistsxyz = removezeros(event.HitVeloXpos,event.HitVeloYpos,event.HitVeloZpos)\n",
    "        velolistsx = velolistsxyz[0];velolistsy = velolistsxyz[1];velolistsz = velolistsxyz[2]\n",
    "\n",
    "        utlistsxyz = removezeros(event.HitUTXpos,event.HitUTYpos,event.HitUTZpos)\n",
    "        utlistsx = utlistsxyz[0];utlistsy = utlistsxyz[1];utlistsz = utlistsxyz[2]\n",
    "        \n",
    "        if (isvelovelo(utlistsz,velolistsz)) == 'VeloVelo' and (isutut(utlistsz,velolistsz)) == 'UTUT':\n",
    "            nVeloUTTracks +=1\n",
    "            \n",
    "\n",
    "            #save fist two hits in velo and first two in UT\n",
    "            xu0=utlistsx[0];  yu0 = utlistsy[0]; zu0 = utlistsz[0];\n",
    "            xu1=utlistsx[len(utlistsz)-1];  yu1 = utlistsy[len(utlistsz)-1]; zu1 = utlistsz[len(utlistsz)-1];\n",
    "            \n",
    "            xv0=velolistsx[0];  yv0 = velolistsy[0]; zv0 = velolistsz[0];\n",
    "            xv1=velolistsx[len(velolistsz)-1];  yv1 = velolistsy[len(velolistsz)-1]; zv1 = velolistsz[len(velolistsz)-1];\n",
    "            \n",
    "            slopevv = Slopexy(xv0,yv0,zv0,xv1,yv1,zv1)\n",
    "            slopevu = Slopexy(xv0,yv0,zv0,xu0,yu0,zu0)\n",
    "            slopeuu = Slopexy(xu0,yu0,zu0,xu1,yu1,zu1)\n",
    "\n",
    "            txVeloVelo_list.append(slopevv[0])\n",
    "            tyVeloVelo_list.append(slopevv[1])\n",
    "            txVeloUT_list.append(slopevu[0])\n",
    "            tyVeloUT_list.append(slopevu[1])\n",
    "            txUTUT_list.append(slopeuu[0])\n",
    "            tyUTUT_list.append(slopeuu[1])\n",
    "\n",
    "            difftx_vv_uu_list.append(slopevv[0]-slopeuu[0])\n",
    "            diffty_vv_uu_list.append(slopevv[1]-slopeuu[1])\n",
    "\n",
    "            p_list.append(event.p)\n",
    "        \n",
    "    if nVeloUTTracks > 10000:\n",
    "        break\n",
    "        \n",
    "    \n",
    "        \n",
    "        \n",
    "\n"
   ]
  },
  {
   "cell_type": "code",
   "execution_count": 9,
   "metadata": {},
   "outputs": [
    {
     "name": "stdout",
     "output_type": "stream",
     "text": [
      "3730\n",
      "0\n"
     ]
    },
    {
     "name": "stderr",
     "output_type": "stream",
     "text": [
      "Warning in <TROOT::Append>: Replacing existing TH1: difftx_vvuu (Potential memory leak).\n",
      "Warning in <TROOT::Append>: Replacing existing TH1: diffty_vvuu (Potential memory leak).\n",
      "Warning in <TROOT::Append>: Replacing existing TH1: reldifftx_vvuu (Potential memory leak).\n",
      "Warning in <TROOT::Append>: Replacing existing TH1: reldiffty_vvuu (Potential memory leak).\n",
      "Warning in <TROOT::Append>: Replacing existing TH1: tx_vv (Potential memory leak).\n",
      "Warning in <TROOT::Append>: Replacing existing TH1: ty_vv (Potential memory leak).\n"
     ]
    }
   ],
   "source": [
    "Nbins=1000\n",
    "\n",
    "print(len(p_list))\n",
    "print(len(p_list_10))\n",
    "\n",
    "difftx_vvuu=TH2F(\"difftx_vvuu\", \"\", Nbins,5000,50000,Nbins,-0.05,0.05)\n",
    "diffty_vvuu=TH2F(\"diffty_vvuu\", \"\", Nbins,5000,50000,Nbins,-0.05,0.05)\n",
    "\n",
    "reldifftx_vvuu=TH2F(\"reldifftx_vvuu\", \"\", Nbins,5000,50000,Nbins,-1,1)\n",
    "reldiffty_vvuu=TH2F(\"reldiffty_vvuu\", \"\", Nbins,5000,50000,Nbins,-1,1)\n",
    "\n",
    "\n",
    "#th2f p vs diff_vvuu\n",
    "for index in range(0,len(p_list)):\n",
    "    difftx_vvuu.Fill(p_list[index],difftx_vv_uu_list[index])\n",
    "    diffty_vvuu.Fill(p_list[index],diffty_vv_uu_list[index])\n",
    "    if(txVeloVelo_list[index] != 0):\n",
    "        reldifftx_vvuu.Fill(p_list[index],difftx_vv_uu_list[index]/txVeloVelo_list[index])\n",
    "    if(tyVeloVelo_list[index] != 0):\n",
    "        reldiffty_vvuu.Fill(p_list[index],diffty_vv_uu_list[index]/tyVeloVelo_list[index])\n",
    "    \n",
    "\n",
    "    \n",
    "Nbins = 60\n",
    "tx_vv=TH1F(\"tx_vv\", \"\", Nbins,-0.25,0.25)\n",
    "ty_vv=TH1F(\"ty_vv\", \"\", Nbins,-0.25,0.25)\n",
    "\n",
    "#th1f slope vv\n",
    "for index in range(0,len(p_list)):\n",
    "    tx_vv.Fill(txVeloVelo_list[index])\n",
    "    ty_vv.Fill(tyVeloVelo_list[index])\n",
    "    \n"
   ]
  },
  {
   "cell_type": "code",
   "execution_count": 10,
   "metadata": {},
   "outputs": [
    {
     "name": "stderr",
     "output_type": "stream",
     "text": [
      "Warning in <TCanvas::Constructor>: Deleting canvas with same name: c4\n",
      "Info in <TCanvas::Print>: png file slopes_vvuu.png has been created\n"
     ]
    }
   ],
   "source": [
    "c4=TCanvas(\"c4\",\"\",1500,600)\n",
    "c4.Divide(2,1)\n",
    "\n",
    "c4.cd(1)\n",
    "difftx_vvuu.Draw()\n",
    "difftx_vvuu.GetXaxis().SetTitle(\"Momentum [MeV]\")\n",
    "difftx_vvuu.GetYaxis().SetTitle(\"Difference in xz slope\")\n",
    "difftx_vvuu.SetMarkerSize(0.5)\n",
    "\n",
    "c4.cd(2)\n",
    "diffty_vvuu.Draw()\n",
    "diffty_vvuu.GetXaxis().SetTitle(\"Momentum [MeV]\")\n",
    "diffty_vvuu.GetYaxis().SetTitle(\"Difference in yz slope\")\n",
    "diffty_vvuu.SetMarkerSize(0.5)\n",
    "\n",
    "'''c4.cd(3)\n",
    "reldifftx_vvuu.Draw()\n",
    "reldifftx_vvuu.GetXaxis().SetTitle(\"p\")\n",
    "reldifftx_vvuu.GetYaxis().SetTitle(\"difftx_vvuu/txvv\")\n",
    "reldifftx_vvuu.SetMarkerSize(0.5)\n",
    "\n",
    "c4.cd(4)\n",
    "reldiffty_vvuu.Draw()\n",
    "reldiffty_vvuu.GetXaxis().SetTitle(\"p\")\n",
    "reldiffty_vvuu.GetYaxis().SetTitle(\"diffty_vvuu/tyvv\")\n",
    "reldiffty_vvuu.SetMarkerSize(0.5)\n",
    "\n",
    "\n",
    "c4.cd(3)\n",
    "tx_vv.Draw()\n",
    "tx_vv.GetXaxis().SetTitle(\"tx_vv\")\n",
    "tx_vv.GetYaxis().SetTitle(\"Events\")\n",
    "\n",
    "c4.cd(4)\n",
    "ty_vv.Draw()\n",
    "ty_vv.GetXaxis().SetTitle(\"tx_vv\")\n",
    "ty_vv.GetYaxis().SetTitle(\"Events\")'''\n",
    "\n",
    "\n",
    "c4.SaveAs(\"slopes_vvuu.png\")\n",
    "\n",
    "\n"
   ]
  },
  {
   "cell_type": "code",
   "execution_count": null,
   "metadata": {},
   "outputs": [],
   "source": []
  }
 ],
 "metadata": {
  "kernelspec": {
   "display_name": "Python 2",
   "language": "python",
   "name": "python2"
  },
  "language_info": {
   "codemirror_mode": {
    "name": "ipython",
    "version": 2
   },
   "file_extension": ".py",
   "mimetype": "text/x-python",
   "name": "python",
   "nbconvert_exporter": "python",
   "pygments_lexer": "ipython2",
   "version": "2.7.15"
  }
 },
 "nbformat": 4,
 "nbformat_minor": 2
}
