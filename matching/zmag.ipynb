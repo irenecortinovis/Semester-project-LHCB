{
 "cells": [
  {
   "cell_type": "code",
   "execution_count": 8,
   "metadata": {},
   "outputs": [
    {
     "name": "stderr",
     "output_type": "stream",
     "text": [
      "/eos/user/i/icortino/lhcbStyle.C:7:9: error: redefinition of 'black'\n",
      "  Int_t black  = 1;\n",
      "        ^\n",
      "/eos/user/i/icortino/lhcbStyle.C:7:9: note: previous definition is here\n",
      "  Int_t black  = 1;\n",
      "        ^\n"
     ]
    }
   ],
   "source": [
    "run functions_matching.ipynb\n"
   ]
  },
  {
   "cell_type": "code",
   "execution_count": 25,
   "metadata": {},
   "outputs": [
    {
     "name": "stderr",
     "output_type": "stream",
     "text": [
      "Warning in <TROOT::Append>: Replacing existing TH1: zmagvsp (Potential memory leak).\n",
      "Warning in <TROOT::Append>: Replacing existing TH1: zmagvstt (Potential memory leak).\n",
      "Warning in <TROOT::Append>: Replacing existing TH1: zmagvstu (Potential memory leak).\n"
     ]
    }
   ],
   "source": [
    "Nbins_p=100\n",
    "Nbins_tt=100\n",
    "Nbins_zmag=100\n",
    "zmagvsp=TH2F(\"zmagvsp\",\"\",Nbins_p,5000,50000,Nbins_zmag,4000,6600)\n",
    "zmagvstt=TH2F(\"zmagvstt\",\"\",Nbins_tt,-1,1,Nbins_zmag,4000,6600)\n",
    "zmagvstu=TH2F(\"zmagvstu\",\"\",Nbins_tt,-1,1,Nbins_zmag,4000,6600)\n",
    "list_zmag = []\n",
    "\n",
    "nEvent = 0\n",
    "for event in ch1:\n",
    "    if event.p > 5000:          \n",
    "                velolistsxyz = removezeros(event.HitVeloXpos,event.HitVeloYpos,event.HitVeloZpos)\n",
    "                velolistsx = velolistsxyz[0];velolistsy = velolistsxyz[1];velolistsz = velolistsxyz[2]\n",
    "\n",
    "                utlistsxyz = removezeros(event.HitUTXpos,event.HitUTYpos,event.HitUTZpos)\n",
    "                utlistsx = utlistsxyz[0];utlistsy = utlistsxyz[1];utlistsz = utlistsxyz[2]\n",
    "\n",
    "                tlistsxyz = removezeros(event.HitXpos,event.HitYpos,event.HitZpos)\n",
    "                tlistsx = tlistsxyz[0];tlistsy = tlistsxyz[1];tlistsz = tlistsxyz[2]\n",
    "\n",
    "\n",
    "                eventconfig = whichconfig(utlistsz,velolistsz)\n",
    "                if eventconfig != -1:\n",
    "                    if eventconfig == 'VeloUT':\n",
    "                        xv0=velolistsx[0];  yv0 = velolistsy[0]; zv0 = velolistsz[0];\n",
    "                        xv1=utlistsx[len(utlistsz)-1];  yv1 = utlistsy[len(utlistsz)-1]; zv1 = utlistsz[len(utlistsz)-1];\n",
    "                    #if eventconfig == 'UTUT':\n",
    "                        #xv0=utlistsx[0];  yv0 = utlistsy[0]; zv0 = utlistsz[0];\n",
    "                        #xv1=utlistsx[len(utlistsz)-1];  yv1 = utlistsy[len(utlistsz)-1]; zv1 = utlistsz[len(utlistsz)-1];\n",
    "                    #if eventconfig == 'VeloVelo':\n",
    "                        #xv0=velolistsx[0];  yv0 = velolistsy[0]; zv0 = velolistsz[0];\n",
    "                        #xv1=velolistsx[len(velolistsz)-1];  yv1 = velolistsy[len(velolistsz)-1]; zv1 = velolistsz[len(velolistsz)-1];\n",
    "\n",
    "                        #selecting some long tracks for event in ch1 and cut for !=0 else division/0\n",
    "                        if len(tlistsz)>1:\n",
    "                            if (tlistsz[len(tlistsz)-1]>tlistsz[0]>7000 and tlistsz[len(tlistsz)-1]-tlistsz[0] != 0):\n",
    "                                nEvent = nEvent+1\n",
    "\n",
    "                                xt0=tlistsx[0];  yt0 = tlistsy[0]; zt0 = tlistsz[0];\n",
    "                                xt1=tlistsx[len(tlistsz)-1];  yt1 = tlistsy[len(tlistsz)-1]; zt1 = tlistsz[len(tlistsz)-1];\n",
    "                                vp = event.p \n",
    "\n",
    "                                zmag = findZmag(xv0, yv0, zv0, xv1, yv1, zv1, xt0, yt0, zt0, xt1, yt1, zt1) \n",
    "                                if zmag != -1:\n",
    "                                    zmagvsp.Fill(vp, zmag)\n",
    "                                    zmagvstt.Fill((xt1-xt0)/(zt1-zt0), zmag)\n",
    "                                    zmagvstu.Fill((xv1-xv0)/(zv1-zv0), zmag)\n",
    "                                    list_zmag.append(zmag)"
   ]
  },
  {
   "cell_type": "code",
   "execution_count": 26,
   "metadata": {},
   "outputs": [
    {
     "name": "stdout",
     "output_type": "stream",
     "text": [
      "6874\n"
     ]
    }
   ],
   "source": [
    "print(nEvent)"
   ]
  },
  {
   "cell_type": "code",
   "execution_count": 10,
   "metadata": {},
   "outputs": [
    {
     "name": "stdout",
     "output_type": "stream",
     "text": [
      "\n",
      "****************************************\n",
      "Minimizer is Linear\n",
      "Chi2                      =      59906.2\n",
      "NDf                       =          901\n",
      "p0                        =      5247.94   +/-   2.38329     \n"
     ]
    },
    {
     "name": "stderr",
     "output_type": "stream",
     "text": [
      "Warning in <TCanvas::Constructor>: Deleting canvas with same name: c5\n",
      "Info in <TCanvas::Print>: png file zmag_vs_p.png has been created\n"
     ]
    }
   ],
   "source": [
    "#plot zmag as function of momentum\n",
    "\n",
    "c5=TCanvas(\"c5\",\"\",1400,1000)\n",
    "zmagvsp.Fit(\"pol0\")\n",
    "zmagvsp.Draw()\n",
    "zmagvsp.GetXaxis().SetTitle(\"Momentum [MeV]\")\n",
    "zmagvsp.GetYaxis().SetTitle(\"zmag [mm]\")\n",
    "c5.SaveAs(\"zmag_vs_p.png\")"
   ]
  },
  {
   "cell_type": "code",
   "execution_count": 11,
   "metadata": {},
   "outputs": [
    {
     "name": "stdout",
     "output_type": "stream",
     "text": [
      "\n",
      "****************************************\n",
      "Minimizer is Linear\n",
      "Chi2                      =      62556.8\n",
      "NDf                       =          630\n",
      "p0                        =      5247.37   +/-   2.82432     \n"
     ]
    },
    {
     "name": "stderr",
     "output_type": "stream",
     "text": [
      "Info in <TCanvas::Print>: png file zmag_vs_tt.png has been created\n"
     ]
    }
   ],
   "source": [
    "#plot zmag as function of xz slope in t stations\n",
    "\n",
    "c6=TCanvas(\"c6\",\"\",1400,1000)\n",
    "zmagvstt.Fit(\"pol0\")\n",
    "zmagvstt.Draw()\n",
    "c6.SaveAs(\"zmag_vs_tt.png\")"
   ]
  },
  {
   "cell_type": "code",
   "execution_count": 12,
   "metadata": {},
   "outputs": [
    {
     "name": "stdout",
     "output_type": "stream",
     "text": [
      "\n",
      "****************************************\n",
      "Minimizer is Linear\n",
      "Chi2                      =      64809.1\n",
      "NDf                       =          350\n",
      "p0                        =      5247.77   +/-   3.855       \n"
     ]
    },
    {
     "name": "stderr",
     "output_type": "stream",
     "text": [
      "Info in <TCanvas::Print>: png file zmag_vs_tu.png has been created\n"
     ]
    }
   ],
   "source": [
    "#plot zmag as function of xz slope in upstream segment\n",
    "\n",
    "c7=TCanvas(\"c7\",\"\",1400,1000)\n",
    "zmagvstu.Fit(\"pol0\")\n",
    "zmagvstu.Draw()\n",
    "\n",
    "c7.SaveAs(\"zmag_vs_tu.png\")"
   ]
  },
  {
   "cell_type": "code",
   "execution_count": 27,
   "metadata": {},
   "outputs": [
    {
     "name": "stdout",
     "output_type": "stream",
     "text": [
      "5242.334028420714\n",
      "95.1171886410668\n"
     ]
    }
   ],
   "source": [
    "#velout\n",
    "print(np.mean(list_zmag))\n",
    "print(np.std(list_zmag))\n"
   ]
  },
  {
   "cell_type": "code",
   "execution_count": 21,
   "metadata": {},
   "outputs": [
    {
     "name": "stdout",
     "output_type": "stream",
     "text": [
      "5312.619840940828\n",
      "131.99181872696084\n"
     ]
    }
   ],
   "source": [
    "#utut\n",
    "print(np.mean(list_zmag))\n",
    "print(np.std(list_zmag))\n"
   ]
  },
  {
   "cell_type": "code",
   "execution_count": 24,
   "metadata": {},
   "outputs": [
    {
     "name": "stdout",
     "output_type": "stream",
     "text": [
      "5231.392110722019\n",
      "150.5548976385014\n"
     ]
    }
   ],
   "source": [
    "#velovelo\n",
    "print(np.mean(list_zmag))\n",
    "print(np.std(list_zmag))\n"
   ]
  },
  {
   "cell_type": "code",
   "execution_count": null,
   "metadata": {},
   "outputs": [],
   "source": []
  }
 ],
 "metadata": {
  "kernelspec": {
   "display_name": "Python 2",
   "language": "python",
   "name": "python2"
  },
  "language_info": {
   "codemirror_mode": {
    "name": "ipython",
    "version": 2
   },
   "file_extension": ".py",
   "mimetype": "text/x-python",
   "name": "python",
   "nbconvert_exporter": "python",
   "pygments_lexer": "ipython2",
   "version": "2.7.15"
  }
 },
 "nbformat": 4,
 "nbformat_minor": 2
}
