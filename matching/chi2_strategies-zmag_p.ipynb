{
 "cells": [
  {
   "cell_type": "code",
   "execution_count": 13,
   "metadata": {},
   "outputs": [],
   "source": [
    "from ROOT import *\n",
    "import numpy as np\n",
    "import math\n",
    "from shapely.geometry import LineString\n"
   ]
  },
  {
   "cell_type": "code",
   "execution_count": 4,
   "metadata": {},
   "outputs": [],
   "source": [
    "#ch1=TChain(\"MCParticleNTuple/Tracks\")\n",
    "#ch1.Add(\"~/MightyIT/MCtracks_oldfile_20ev.root\")\n",
    "\n",
    "#ch1=TChain(\"MCParticleNTuple/Tracks\")\n",
    "#ch1.Add(\"~/MightyIT/MCtracks_oldfile_nocuts_20ev.root\")\n",
    "\n",
    "ch1=TChain(\"MCParticleNTuple/Tracks\")\n",
    "ch1.Add(\"~/MightyIT/MCtracks_MagUp_bs2phiphi_1p5e34_20ev.root\")\n",
    "\n",
    "#ch1=TChain(\"MCParticleNTuple/Tracks\")\n",
    "#ch1.Add(\"~/MightyIT/MCtracks_MagUp_bs2phiphi_1p5e34_nocuts_20ev.root\")\n",
    "\n",
    "\n",
    "gROOT.ProcessLine(\".x ~/lhcbStyle.C\")\n",
    "gStyle.SetPaintTextFormat(\"1.3f\")\n",
    "\n"
   ]
  },
  {
   "cell_type": "code",
   "execution_count": 5,
   "metadata": {},
   "outputs": [],
   "source": [
    "#function that finds intersection of velo and t track for a longtrack, on the bending plane\n",
    "#outputs the z coordinate (zmag)\n",
    "\n",
    "def findZmag(xv0, yv0, zv0, xv1, yv1, zv1, xt0, yt0, zt0, xt1, yt1, zt1): #to ask: velo p?\n",
    "    tyV=(yv1 - yv0)/(zv1 - zv0)\n",
    "    txV=(xv1 - xv0)/(zv1 - zv0)\n",
    "    tyT=(yt1 - yt0)/(zt1 - zt0)\n",
    "    txT=(xt1 - xt0)/(zt1 - zt0)\n",
    "    \n",
    "    #extrapolate velo track from v1 to t0 with velo slope\n",
    "    xV_zt0 = xv1 + txV*(zt0-zv1)\n",
    "    \n",
    "    #extrapolate t track from t0 to v1 with t track slope\n",
    "    xT_zv1 = xt0 + txT*(zv1-zt0)\n",
    "    \n",
    "    velo_extr = LineString([(xv1,zv1), (xV_zt0,zt0)])\n",
    "    t_extr = LineString([(xT_zv1,zv1), (xt0,zt0)])\n",
    "    \n",
    "    #todo: sometimes no intersection, but this is not optimized?\n",
    "    if velo_extr.intersection(t_extr):\n",
    "        zmag = velo_extr.intersection(t_extr).y #it is actually z\n",
    "    else:\n",
    "        zmag = -1\n",
    "   \n",
    "    return zmag"
   ]
  },
  {
   "cell_type": "code",
   "execution_count": null,
   "metadata": {},
   "outputs": [],
   "source": [
    "#FIRST TWO STRATEGY"
   ]
  },
  {
   "cell_type": "code",
   "execution_count": 71,
   "metadata": {},
   "outputs": [
    {
     "name": "stderr",
     "output_type": "stream",
     "text": [
      "Warning in TROOT::Append>: Replacing existing TH1: zmagvsp (Potential memory leak).\n"
     ]
    }
   ],
   "source": [
    "########## FINDING ZMAG FOR VELOVELO SEGMENTS ########\n",
    "\n",
    "#initialise histo and list\n",
    "\n",
    "Nbins_p=100\n",
    "Nbins_zmag=100\n",
    "zmagvsp=TH2F(\"zmagvsp\",\"\",Nbins_p,Nbins_zmag,0,5000,4000,6000)\n",
    "list_zmag = []\n",
    "\n",
    "#find zmag for many long tracks\n",
    "nEvent = 0\n",
    "for event in ch1:\n",
    "    \n",
    "    #selecting some long tracks for event in ch1 and cut for !=0 else division/0\n",
    "    if (event.HitVeloZpos[1]-event.HitVeloZpos[0] != 0 and event.HitZpos[1]-event.HitZpos[0] != 0 \n",
    "       and  0.<event.HitVeloZpos[0]<event.HitVeloZpos[1]<800.  and event.HitZpos[0]>7000. and event.HitZpos[1]>7000 and event.p > 5000):\n",
    "        nEvent = nEvent+1\n",
    "        \n",
    "        xv0 = event.HitVeloXpos[0]; yv0 = event.HitVeloYpos[0]; zv0 = event.HitVeloZpos[0];\n",
    "        xv1 = event.HitVeloXpos[1]; yv1 = event.HitVeloYpos[1]; zv1 = event.HitVeloZpos[1];\n",
    "        xt0 = event.HitXpos[0]; yt0 = event.HitYpos[0]; zt0 = event.HitZpos[0];\n",
    "        xt1 = event.HitXpos[1]; yt1 = event.HitYpos[1]; zt1 = event.HitZpos[1];\n",
    "        vp = event.p\n",
    "        \n",
    "      \n",
    "        zmag = findZmag(xv0, yv0, zv0, xv1, yv1, zv1, xt0, yt0, zt0, xt1, yt1, zt1) \n",
    "        if zmag != -1:\n",
    "            zmagvsp.Fill(vp, zmag)\n",
    "            list_zmag.append(zmag)\n",
    "        #cut at n good events (computational time issue)\n",
    "        if nEvent > 1000:\n",
    "            break"
   ]
  },
  {
   "cell_type": "code",
   "execution_count": 72,
   "metadata": {},
   "outputs": [
    {
     "name": "stdout",
     "output_type": "stream",
     "text": [
      "\n",
      "****************************************\n",
      "Minimizer is Linear\n",
      "Chi2                      =  7.35746e+07\n",
      "NDf                       =          884\n",
      "p0                        =      5097.49   +/-   2.14192     \n"
     ]
    },
    {
     "name": "stderr",
     "output_type": "stream",
     "text": [
      "Warning in <TCanvas::Constructor>: Deleting canvas with same name: c5\n",
      "Info in <TCanvas::Print>: png file dist_testing_zmag.png has been created\n"
     ]
    }
   ],
   "source": [
    "#plot zmag as function of momentum\n",
    "\n",
    "c5=TCanvas(\"c5\",\"\",1400,1000)\n",
    "zmagvsp.Fit(\"pol0\")\n",
    "zmagvsp.Draw()\n",
    "c5.SaveAs(\"dist_testing_zmag.png\")\n",
    "\n",
    "\n"
   ]
  },
  {
   "cell_type": "code",
   "execution_count": 8,
   "metadata": {},
   "outputs": [
    {
     "name": "stderr",
     "output_type": "stream",
     "text": [
      "Warning in <TROOT::Append>: Replacing existing TH1: zmagvsp (Potential memory leak).\n"
     ]
    }
   ],
   "source": [
    "########## FINDING ZMAG FOR VELOUT SEGMENTS ########\n",
    "#initialise histo and list\n",
    "\n",
    "Nbins_p=100\n",
    "Nbins_zmag=100\n",
    "zmagvsp=TH2F(\"zmagvsp\",\"\",Nbins_p,Nbins_zmag,0,5000,4000,6000)\n",
    "list_zmag = []\n",
    "\n",
    "#find zmag for many long tracks\n",
    "nEvent = 0\n",
    "for event in ch1:\n",
    "    \n",
    "    if (event.HitVeloZpos[1]-event.HitVeloZpos[0] != 0 and event.HitZpos[1]-event.HitZpos[0] != 0\n",
    "       and  0.<event.HitVeloZpos[0]<800. and event.HitUTZpos[0]>2000 and event.HitUTZpos[0]<3000 and event.HitZpos[0]>7000. and event.HitZpos[1]>7000 and event.p > 5000):\n",
    "        nEvent = nEvent+1\n",
    "\n",
    "        #use fist hit in velo and first hit in UT\n",
    "        xv0=event.HitVeloXpos[0];  yv0 = event.HitVeloYpos[0]; zv0 = event.HitVeloZpos[0];\n",
    "        xv1=event.HitUTXpos[0];  yv1 = event.HitUTYpos[0]; zv1 = event.HitUTZpos[0];\n",
    "        xt0 = event.HitXpos[0]; yt0 = event.HitYpos[0]; zt0 = event.HitZpos[0];\n",
    "        xt1 = event.HitXpos[1]; yt1 = event.HitYpos[1]; zt1 = event.HitZpos[1];\n",
    "        vp = event.p\n",
    "        \n",
    "      \n",
    "        zmag = findZmag(xv0, yv0, zv0, xv1, yv1, zv1, xt0, yt0, zt0, xt1, yt1, zt1) \n",
    "        if zmag != -1:\n",
    "            zmagvsp.Fill(vp, zmag)\n",
    "            list_zmag.append(zmag)\n",
    "        #cut at n good events (computational time issue)\n",
    "        if nEvent > 10000:\n",
    "            break"
   ]
  },
  {
   "cell_type": "code",
   "execution_count": 9,
   "metadata": {},
   "outputs": [
    {
     "name": "stdout",
     "output_type": "stream",
     "text": [
      "5137.983945428907\n",
      "90.95516989777349\n"
     ]
    }
   ],
   "source": [
    "#mean and sigma for the distribution (since it is quite constant)\n",
    "print(np.mean(list_zmag))\n",
    "print(np.std(list_zmag))\n",
    "\n",
    "\n"
   ]
  },
  {
   "cell_type": "code",
   "execution_count": 10,
   "metadata": {},
   "outputs": [
    {
     "name": "stdout",
     "output_type": "stream",
     "text": [
      "\n",
      "****************************************\n",
      "Minimizer is Linear\n",
      "Chi2                      =  5.82813e+08\n",
      "NDf                       =         3622\n",
      "p0                        =      5133.91   +/-   0.716552    \n"
     ]
    },
    {
     "name": "stderr",
     "output_type": "stream",
     "text": [
      "Info in <TCanvas::Print>: png file dist_testing_zmag.png has been created\n"
     ]
    }
   ],
   "source": [
    "#plot zmag as function of momentum\n",
    "\n",
    "c5=TCanvas(\"c5\",\"\",1400,1000)\n",
    "zmagvsp.Fit(\"pol0\")\n",
    "zmagvsp.Draw()\n",
    "c5.SaveAs(\"dist_testing_zmag.png\")"
   ]
  },
  {
   "cell_type": "code",
   "execution_count": 13,
   "metadata": {},
   "outputs": [
    {
     "name": "stderr",
     "output_type": "stream",
     "text": [
      "Warning in <TROOT::Append>: Replacing existing TH1: zmagvsp (Potential memory leak).\n"
     ]
    }
   ],
   "source": [
    "########## FINDING ZMAG FOR UTUT SEGMENTS ########\n",
    "#initialise histo and list\n",
    "\n",
    "Nbins_p=100\n",
    "Nbins_zmag=100\n",
    "zmagvsp=TH2F(\"zmagvsp\",\"\",Nbins_p,Nbins_zmag,0,5000,4000,6000)\n",
    "list_zmag = []\n",
    "\n",
    "#find zmag for many long tracks\n",
    "nEvent = 0\n",
    "for event in ch1:\n",
    "    \n",
    "    if (event.HitUTZpos[1]-event.HitUTZpos[0] != 0 and event.HitZpos[1]-event.HitZpos[0] != 0\n",
    "       and  (event.HitUTZpos[1]>event.HitUTZpos[0]>2000) and (event.HitUTZpos[0]<event.HitUTZpos[1]<3000) and event.HitZpos[1]>event.HitZpos[0]>7000. and event.p > 5000):\n",
    "        nEvent = nEvent+1\n",
    "\n",
    "        #use fist two hita in UT\n",
    "        xu0=event.HitVeloXpos[0];  yu0 = event.HitVeloYpos[0]; zu0 = event.HitVeloZpos[0];\n",
    "        xu1=event.HitUTXpos[0];  yu1 = event.HitUTYpos[0]; zu1 = event.HitUTZpos[0];\n",
    "        xt0 = event.HitXpos[0]; yt0 = event.HitYpos[0]; zt0 = event.HitZpos[0];\n",
    "        xt1 = event.HitXpos[1]; yt1 = event.HitYpos[1]; zt1 = event.HitZpos[1];\n",
    "        vp = event.p\n",
    "        \n",
    "      \n",
    "        zmag = findZmag(xu0, yu0, zu0, xu1, yu1, zu1, xt0, yt0, zt0, xt1, yt1, zt1) \n",
    "        if zmag != -1:\n",
    "            zmagvsp.Fill(vp, zmag)\n",
    "            list_zmag.append(zmag)\n",
    "        #cut at n good events (computational time issue)\n",
    "        if nEvent > 10000:\n",
    "            break"
   ]
  },
  {
   "cell_type": "code",
   "execution_count": 14,
   "metadata": {},
   "outputs": [
    {
     "name": "stdout",
     "output_type": "stream",
     "text": [
      "5138.572882197544\n",
      "91.12822517096782\n"
     ]
    }
   ],
   "source": [
    "#mean and sigma for the distribution (since it is quite constant)\n",
    "print(np.mean(list_zmag))\n",
    "print(np.std(list_zmag))\n"
   ]
  },
  {
   "cell_type": "code",
   "execution_count": 15,
   "metadata": {},
   "outputs": [
    {
     "name": "stdout",
     "output_type": "stream",
     "text": [
      "\n",
      "****************************************\n",
      "Minimizer is Linear\n",
      "Chi2                      =  5.17841e+08\n",
      "NDf                       =         3562\n",
      "p0                        =       5134.5   +/-   0.746421    \n"
     ]
    },
    {
     "name": "stderr",
     "output_type": "stream",
     "text": [
      "Warning in <TCanvas::Constructor>: Deleting canvas with same name: c5\n",
      "Info in <TCanvas::Print>: png file dist_testing_zmag.png has been created\n"
     ]
    }
   ],
   "source": [
    "#plot zmag as function of momentum\n",
    "\n",
    "c5=TCanvas(\"c5\",\"\",1400,1000)\n",
    "zmagvsp.Fit(\"pol0\")\n",
    "zmagvsp.Draw()\n",
    "c5.SaveAs(\"dist_testing_zmag.png\")"
   ]
  },
  {
   "cell_type": "code",
   "execution_count": null,
   "metadata": {},
   "outputs": [],
   "source": [
    "#FIRST LAST STRATEGY"
   ]
  },
  {
   "cell_type": "code",
   "execution_count": 6,
   "metadata": {},
   "outputs": [],
   "source": [
    "def removezeros(listwithzerosX,listwithzerosY,listwithzerosZ):\n",
    "    listwithoutzerosX = []\n",
    "    listwithoutzerosY = []\n",
    "    listwithoutzerosZ = []\n",
    "    for item in range(0,len(listwithzerosZ)):\n",
    "        if listwithzerosZ[item] != 0:\n",
    "            listwithoutzerosX.append(listwithzerosX[item])\n",
    "            listwithoutzerosY.append(listwithzerosY[item])\n",
    "            listwithoutzerosZ.append(listwithzerosZ[item])\n",
    "    return listwithoutzerosX,listwithoutzerosY,listwithoutzerosZ"
   ]
  },
  {
   "cell_type": "code",
   "execution_count": 7,
   "metadata": {},
   "outputs": [],
   "source": [
    "def whichconfig(uzlist,vzlist):\n",
    "    isassigned = False\n",
    "    if len(uzlist)>0 and len(vzlist)>0:\n",
    "        uz0 = uzlist[0]; vz0 = vzlist[len(vzlist)-1]\n",
    "        if (uz0-vz0)!=0 and 0<vz0<800 and 2000<uz0<3000:\n",
    "            isassigned=True\n",
    "            return 'VeloUT' #best because most precise slope (long)\n",
    "    elif len(uzlist)>1:\n",
    "        uz0 = uzlist[0]; uz1 = uzlist[len(uzlist)-1]\n",
    "        if (uz1-uz0)!= 0 and 2000<uz0<uz1<3000:\n",
    "            isassigned=True\n",
    "            return 'UTUT' #better than velovelo because hits are closer -> error propagated less\n",
    "    elif len(vzlist)>1:\n",
    "        vz0 = vzlist[0]; vz1 = vzlist[len(vzlist)-1]\n",
    "        if (vz1-vz0)!=0 and 0<vz0<vz1<800:\n",
    "            isassigned=True\n",
    "            return 'VeloVelo'\n",
    "    if isassigned == False:\n",
    "        return -1"
   ]
  },
  {
   "cell_type": "code",
   "execution_count": 40,
   "metadata": {},
   "outputs": [
    {
     "name": "stderr",
     "output_type": "stream",
     "text": [
      "Warning in <TROOT::Append>: Replacing existing TH1: zmagvsp (Potential memory leak).\n"
     ]
    }
   ],
   "source": [
    "\n",
    "Nbins_p=100\n",
    "Nbins_zmag=100\n",
    "zmagvsp=TH2F(\"zmagvsp\",\"\",Nbins_p,Nbins_zmag,0,5000,4000,6000)\n",
    "list_zmag = []\n",
    "\n",
    "nEvent = 0\n",
    "for event in ch1:\n",
    "    if event.p > 5000:          \n",
    "                velolistsxyz = removezeros(event.HitVeloXpos,event.HitVeloYpos,event.HitVeloZpos)\n",
    "                velolistsx = velolistsxyz[0];velolistsy = velolistsxyz[1];velolistsz = velolistsxyz[2]\n",
    "\n",
    "                utlistsxyz = removezeros(event.HitUTXpos,event.HitUTYpos,event.HitUTZpos)\n",
    "                utlistsx = utlistsxyz[0];utlistsy = utlistsxyz[1];utlistsz = utlistsxyz[2]\n",
    "\n",
    "                tlistsxyz = removezeros(event.HitXpos,event.HitYpos,event.HitZpos)\n",
    "                tlistsx = tlistsxyz[0];tlistsy = tlistsxyz[1];tlistsz = tlistsxyz[2]\n",
    "\n",
    "\n",
    "                eventconfig = whichconfig(utlistsz,velolistsz)\n",
    "                #if eventconfig == 'VeloUT':\n",
    "                    #xv0=velolistsx[0];  yv0 = velolistsy[0]; zv0 = velolistsz[0];\n",
    "                    #xv1=utlistsx[len(utlistsz)-1];  yv1 = utlistsy[len(utlistsz)-1]; zv1 = utlistsz[len(utlistsz)-1];\n",
    "                    #nEvent+=1\n",
    "                if eventconfig == 'UTUT':\n",
    "                    xv0=utlistsx[0];  yv0 = utlistsy[0]; zv0 = utlistsz[0];\n",
    "                    xv1=utlistsx[len(utlistsz)-1];  yv1 = utlistsy[len(utlistsz)-1]; zv1 = utlistsz[len(utlistsz)-1];\n",
    "                #if eventconfig == 'VeloVelo':\n",
    "                    #xv0=velolistsx[0];  yv0 = velolistsy[0]; zv0 = velolistsz[0];\n",
    "                    #xv1=velolistsx[len(velolistsz)-1];  yv1 = velolistsy[len(velolistsz)-1]; zv1 = velolistsz[len(velolistsz)-1];\n",
    "                    #nEvent+=1\n",
    "                \n",
    "\n",
    "                    #selecting some long tracks for event in ch1 and cut for !=0 else division/0\n",
    "                    if len(tlistsz)>1:\n",
    "                        if (tlistsz[len(tlistsz)-1]>tlistsz[0]>7000 and tlistsz[len(tlistsz)-1]-tlistsz[0] != 0):\n",
    "                            nEvent = nEvent+1\n",
    "                            \n",
    "                            xt0=tlistsx[0];  yt0 = tlistsy[0]; zt0 = tlistsz[0];\n",
    "                            xt1=tlistsx[len(tlistsz)-1];  yt1 = tlistsy[len(tlistsz)-1]; zt1 = tlistsz[len(tlistsz)-1];\n",
    "                            vp = event.p \n",
    "\n",
    "                            zmag = findZmag(xv0, yv0, zv0, xv1, yv1, zv1, xt0, yt0, zt0, xt1, yt1, zt1) \n",
    "                            if zmag != -1:\n",
    "                                zmagvsp.Fill(vp, zmag)\n",
    "                                list_zmag.append(zmag)\n",
    "                            #cut at n good events (computational time issue)\n",
    "                            if nEvent > 10000:\n",
    "                                break\n",
    "                "
   ]
  },
  {
   "cell_type": "code",
   "execution_count": 37,
   "metadata": {},
   "outputs": [
    {
     "name": "stdout",
     "output_type": "stream",
     "text": [
      "5242.304049032313\n",
      "98.55564206210029\n"
     ]
    }
   ],
   "source": [
    "#velout\n",
    "print(np.mean(list_zmag))\n",
    "print(np.std(list_zmag))\n"
   ]
  },
  {
   "cell_type": "code",
   "execution_count": 41,
   "metadata": {},
   "outputs": [
    {
     "name": "stdout",
     "output_type": "stream",
     "text": [
      "5290.142384112723\n",
      "51.96271035348571\n"
     ]
    }
   ],
   "source": [
    "#utut\n",
    "print(np.mean(list_zmag))\n",
    "print(np.std(list_zmag))\n"
   ]
  },
  {
   "cell_type": "code",
   "execution_count": 31,
   "metadata": {},
   "outputs": [
    {
     "name": "stdout",
     "output_type": "stream",
     "text": [
      "5231.848068069948\n",
      "126.42797052406657\n"
     ]
    }
   ],
   "source": [
    "#velovelo\n",
    "print(np.mean(list_zmag))\n",
    "print(np.std(list_zmag))\n"
   ]
  },
  {
   "cell_type": "code",
   "execution_count": null,
   "metadata": {},
   "outputs": [],
   "source": []
  }
 ],
 "metadata": {
  "kernelspec": {
   "display_name": "Python 2",
   "language": "python",
   "name": "python2"
  },
  "language_info": {
   "codemirror_mode": {
    "name": "ipython",
    "version": 2
   },
   "file_extension": ".py",
   "mimetype": "text/x-python",
   "name": "python",
   "nbconvert_exporter": "python",
   "pygments_lexer": "ipython2",
   "version": "2.7.15"
  }
 },
 "nbformat": 4,
 "nbformat_minor": 2
}
