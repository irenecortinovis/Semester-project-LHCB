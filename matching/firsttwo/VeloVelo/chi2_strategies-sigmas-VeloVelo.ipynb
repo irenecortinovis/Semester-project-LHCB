{
 "cells": [
  {
   "cell_type": "code",
   "execution_count": 208,
   "metadata": {},
   "outputs": [],
   "source": [
    "from ROOT import *\n",
    "import numpy as np\n",
    "import math\n",
    "\n",
    "from shapely.geometry import Point\n",
    "from shapely.geometry.polygon import Polygon\n",
    "\n",
    "gROOT.ProcessLine(\".x ~/lhcbStyle.C\")\n",
    "gStyle.SetPaintTextFormat(\"1.3f\")\n"
   ]
  },
  {
   "cell_type": "code",
   "execution_count": 424,
   "metadata": {},
   "outputs": [],
   "source": [
    "#NEW FILE VELO VELO CONFIG\n",
    "\n",
    "ch1=TChain(\"MCParticleNTuple/Tracks\")\n",
    "ch1.Add(\"~/MightyIT/MCtracks_MagUp_bs2phiphi_1p5e34_20ev.root\")\n",
    "\n",
    "#ch1=TChain(\"MCParticleNTuple/Tracks\")\n",
    "#ch1.Add(\"~/MightyIT/MCtracks_MagUp_bs2phiphi_1p5e34_nocuts_20ev.root\")\n",
    "\n",
    "\n",
    "zmag = 5106.5 #for MCtracks_MagUp_bs2phiphi_1p5e34\n",
    "\n",
    "sigmax_nosm=11.6\n",
    "sigmay_nosm=8.1\n",
    "sigmatx_nosm=0.0042\n",
    "sigmaty_nosm=0.0020\n",
    "\n",
    "sigmax_wsm=28\n",
    "sigmay_wsm=8.1\n",
    "sigmatx_wsm=0.01\n",
    "sigmaty_wsm=0.02\n",
    "\n",
    "perc_list = [80, 81, 82, 83, 84, 85, 86, 87, 88, 89, 90, 91, 92, 93, 94, 95, 96, 97, 98, 99]\n",
    "thr_wsm_list = [1.41, 1.58, 1.69, 1.87, 2.03, 2.21, 2.45, 2.71, 3.03, 3.39, 3.92, 4.5, 5.28, 6.37, 7.79, 9.98, 14.5, 22.18, 36.23, 77.76]\n",
    "thr_nosm_list = [3.03, 3.25, 3.46, 3.74, 4.06, 4.39, 4.74, 5.25, 5.86, 6.51, 7.35, 8.42, 9.63, 11.6, 14.31, 17.56, 23.2, 34.31, 51.55, 91.08]\n",
    "       \n"
   ]
  },
  {
   "cell_type": "code",
   "execution_count": 391,
   "metadata": {},
   "outputs": [],
   "source": [
    "#OLD FILE VELO VELO CONFIG\n",
    "\n",
    "ch1=TChain(\"MCParticleNTuple/Tracks\")\n",
    "ch1.Add(\"~/MightyIT/MCtracks_oldfile_20ev.root\")\n",
    "\n",
    "#ch1=TChain(\"MCParticleNTuple/Tracks\")\n",
    "#ch1.Add(\"~/MightyIT/MCtracks_oldfile_nocuts_20ev.root\")\n",
    "\n",
    "zmag = 5113.5 #for MCtracks_oldfile\n",
    "\n",
    "\n",
    "#no smearing sigmas for oldfile\n",
    "sigmax_nosm=9.0\n",
    "sigmay_nosm=7.5\n",
    "sigmatx_nosm=0.0032\n",
    "sigmaty_nosm=0.0017\n",
    "\n",
    "sigmax_wsm=60\n",
    "sigmay_wsm=8\n",
    "sigmatx_wsm=0.02\n",
    "sigmaty_wsm=0.06\n",
    "\n",
    "\n",
    "perc_list = [80, 81, 82, 83, 84, 85, 86, 87, 88, 89, 90, 91, 92, 93, 94, 95, 96, 97, 98, 99]\n",
    "thr_wsm_list = [1.09, 1.17, 1.27, 1.39, 1.49, 1.64, 1.8, 1.99, 2.18, 2.47, 2.82, 3.16, 3.63, 4.18, 4.95, 6.27, 8.54, 11.36, 20.58, 51.14]\n",
    "thr_nosm_list = [3.52, 3.73, 3.96, 4.23, 4.61, 4.93, 5.41, 5.8, 6.33, 7.01, 7.82, 8.79, 10.07, 11.66, 14.2, 17.98, 23.47, 31.98, 52.49, 122.29]\n",
    "\n",
    "\n",
    "\n",
    "\n"
   ]
  },
  {
   "cell_type": "code",
   "execution_count": 406,
   "metadata": {},
   "outputs": [],
   "source": [
    "# pixel smearing in mightyIT\n",
    "resx_mit = 0.1/TMath.Sqrt(12)\n",
    "resy_mit = 0.4/TMath.Sqrt(12)\n",
    "# strips smearing outside mightyIT\n",
    "resx_sf = 0.25/TMath.Sqrt(12)\n",
    "resy_sf = 0.25/TMath.Cos(5.*TMath.Pi()/180.) #takes into account 5° tilting"
   ]
  },
  {
   "cell_type": "code",
   "execution_count": 393,
   "metadata": {},
   "outputs": [],
   "source": [
    "#function that checks if a point (format: (x,y)) is inside the MightyIT region\n",
    "\n",
    "def MightyITregion():\n",
    "    dx = 540\n",
    "    dy = 200\n",
    "    \n",
    "    polygon = Polygon([(-4*dx,1*dy),(-3*dx,1*dy),(-3*dx,2*dy),(-2*dx,2*dy),(-2*dx,3*dy),(-1*dx,3*dy),(-1*dx,4*dy),\n",
    "                      (1*dx,4*dy),(1*dx,3*dy),(2*dx,3*dy),(2*dx,2*dy),(3*dx,2*dy),(3*dx,1*dy),(4*dx,1*dy),\n",
    "                      (4*dx,-1*dy),(3*dx,-1*dy),(3*dx,-2*dy),(2*dx,-2*dy),(2*dx,-3*dy),(1*dx,-3*dy),(1*dx,-4*dy),\n",
    "                      (-1*dx,-4*dy),(-1*dx,-3*dy),(-2*dx,-3*dy),(-2*dx,-2*dy),(-3*dx,-2*dy),(-3*dx,-1*dy),(-4*dx,-1*dy)])\n",
    "    return polygon\n",
    "    \n",
    "def is_inregion(point):\n",
    "    point = Point(point[0], point[1])\n",
    "           \n",
    "    region = MightyITregion()\n",
    "    if region.contains(point):\n",
    "        return True\n",
    "    else:\n",
    "        return False\n",
    "    "
   ]
  },
  {
   "cell_type": "code",
   "execution_count": 394,
   "metadata": {},
   "outputs": [],
   "source": [
    "def ChiSquareVeloT(xv0, yv0, zv0, xv1, yv1, zv1, xt0, yt0, zt0, xt1, yt1, zt1, zmag, smearing=False):\n",
    "    \n",
    "    #gaussian smearing - pixel resolutions x and y according to if in mightyit region or outside\n",
    "    if smearing == True:\n",
    "        if (is_inregion([xt0,yt0]) == True):\n",
    "            xt0 = gRandom.Gaus(xt0,resx_mit)\n",
    "            yt0 = gRandom.Gaus(yt0,resy_mit)\n",
    "        else:\n",
    "            xt0 = gRandom.Gaus(xt0,resx_sf)\n",
    "            yt0 = gRandom.Gaus(yt0,resy_sf)\n",
    "            xt0 = gRandom.Gaus(xt0,resx_sf)\n",
    "            yt0 = gRandom.Gaus(yt0,resy_sf)\n",
    "            \n",
    "        if (is_inregion([xt1,yt1]) == True):\n",
    "            xt1 = gRandom.Gaus(xt1,resx_mit)\n",
    "            yt1 = gRandom.Gaus(yt1,resy_mit)\n",
    "        else:\n",
    "            xt1 = gRandom.Gaus(xt1,resx_sf)\n",
    "            yt1 = gRandom.Gaus(yt1,resy_sf)\n",
    "            \n",
    " \n",
    "        \n",
    "    tyV=(yv1 - yv0)/(zv1 - zv0)\n",
    "    txV=(xv1 - xv0)/(zv1 - zv0)\n",
    "    tyT=(yt1 - yt0)/(zt1 - zt0)\n",
    "    txT=(xt1 - xt0)/(zt1 - zt0)\n",
    "\n",
    "    #zmag calculations\n",
    "    xVzmag=xv1+(zmag-zv1)*txV\n",
    "    yVzmag=yv1+(zmag-zv1)*tyV\n",
    "       \n",
    "    \n",
    "    #chi2 calculations\n",
    "    txPre=(xt0-xVzmag)/(zt0-zmag)\n",
    "    tyPre=(yt0-yVzmag)/(zt0-zmag)\n",
    "\n",
    "    #extrapolated point from zmag to t station, with the same slope of the t track\n",
    "    xT_ex=xVzmag+(zt0-zmag)*txT\n",
    "    #from velo to t track with velo slope\n",
    "    yT_ex=yv1+(zt0-zv1)*tyV\n",
    "    \n",
    "    chi2 = (txPre-txT)*(txPre-txT)/sigma2tx+(tyPre-tyT)*(tyPre-tyT)/sigma2ty + (yT_ex-yt0)*(yT_ex-yt0)/sigma2y + (xT_ex-xt0)*(xT_ex-xt0)/sigma2x \n",
    "\n",
    "\n",
    "    return chi2, (xT_ex-xt0), (yT_ex-yt0), (txPre-txT), (tyPre-tyT)"
   ]
  },
  {
   "cell_type": "code",
   "execution_count": 395,
   "metadata": {},
   "outputs": [],
   "source": [
    "def reject_outliers(data, nsigma=3):\n",
    "    data = np.array(data)\n",
    "    return data[abs(data - np.mean(data)) < nsigma * np.std(data)]\n"
   ]
  },
  {
   "cell_type": "code",
   "execution_count": 396,
   "metadata": {},
   "outputs": [
    {
     "name": "stderr",
     "output_type": "stream",
     "text": [
      "Warning in <TROOT::Append>: Replacing existing TH1: chihisto_nosm (Potential memory leak).\n",
      "Warning in <TROOT::Append>: Replacing existing TH1: chihisto_wsm (Potential memory leak).\n",
      "Warning in <TROOT::Append>: Replacing existing TH1: scatterx_nosm (Potential memory leak).\n",
      "Warning in <TROOT::Append>: Replacing existing TH1: scattery_nosm (Potential memory leak).\n",
      "Warning in <TROOT::Append>: Replacing existing TH1: scattertx_nosm (Potential memory leak).\n",
      "Warning in <TROOT::Append>: Replacing existing TH1: scatterty_nosm (Potential memory leak).\n",
      "Warning in <TROOT::Append>: Replacing existing TH1: scatterx_wsm (Potential memory leak).\n",
      "Warning in <TROOT::Append>: Replacing existing TH1: scattery_wsm (Potential memory leak).\n",
      "Warning in <TROOT::Append>: Replacing existing TH1: scattertx_wsm (Potential memory leak).\n",
      "Warning in <TROOT::Append>: Replacing existing TH1: scatterty_wsm (Potential memory leak).\n"
     ]
    }
   ],
   "source": [
    "Nbins=100; nrange=5\n",
    "chihisto_nosm=TH1F(\"chihisto_nosm\",\"\",Nbins,0, nrange)\n",
    "chihisto_wsm=TH1F(\"chihisto_wsm\",\"\",Nbins,0, nrange)\n",
    "\n",
    "histolimx = 50\n",
    "histolimy = 50\n",
    "scatterx_nosm=TH1F(\"scatterx_nosm\",\"\",Nbins,-histolimx, +histolimx)\n",
    "scattery_nosm=TH1F(\"scattery_nosm\",\"\",Nbins,-histolimy, +histolimy)\n",
    "\n",
    "histolimtx = 0.01\n",
    "histolimty = 0.01\n",
    "scattertx_nosm=TH1F(\"scattertx_nosm\",\"\",Nbins,-histolimtx, +histolimtx)\n",
    "scatterty_nosm=TH1F(\"scatterty_nosm\",\"\",Nbins,-histolimty, +histolimty)\n",
    "\n",
    "histolimx = 50\n",
    "histolimy = 50\n",
    "scatterx_wsm=TH1F(\"scatterx_wsm\",\"\",Nbins,-2*histolimx, +2*histolimx)\n",
    "scattery_wsm=TH1F(\"scattery_wsm\",\"\",Nbins,-2*histolimy, +2*histolimy)\n",
    "\n",
    "histolimtx = 0.01\n",
    "histolimty = 0.01\n",
    "scattertx_wsm=TH1F(\"scattertx_wsm\",\"\",Nbins,-2*histolimtx, +2*histolimtx)\n",
    "scatterty_wsm=TH1F(\"scatterty_wsm\",\"\",Nbins,-2*histolimty, +2*histolimty)"
   ]
  },
  {
   "cell_type": "code",
   "execution_count": 409,
   "metadata": {},
   "outputs": [
    {
     "name": "stdout",
     "output_type": "stream",
     "text": [
      "5104.0\n",
      "5105.0\n",
      "5106.0\n",
      "5107.0\n",
      "5108.0\n",
      "5109.0\n",
      "5110.0\n"
     ]
    }
   ],
   "source": [
    "######################################\n",
    "# testing smearing: zmag fine tuning #\n",
    "######################################\n",
    "\n",
    "maxNevent = 5000\n",
    "\n",
    "meansx_nosm = []\n",
    "meansy_nosm = []\n",
    "meanstx_nosm = []\n",
    "meansty_nosm = []\n",
    "\n",
    "range_as =  np.linspace(5104,5110,7)\n",
    "for zmag in range_as:\n",
    "    \n",
    "    print(zmag)\n",
    "\n",
    "\n",
    "    list_chi_wsm = []\n",
    "    list_chi_nosm = []\n",
    "    list_scx_wsm = []\n",
    "    list_scx_nosm = []\n",
    "    list_scy_wsm = []\n",
    "    list_scy_nosm = []\n",
    "    list_sctx_wsm = []\n",
    "    list_sctx_nosm = []\n",
    "    list_scty_wsm = []\n",
    "    list_scty_nosm = []\n",
    "\n",
    "    #TESTING SEARCH WINDOWS\n",
    "    #after noting an asymmetry in distribution depending on the sign of the charge, the zmag has been found from the data. around 5100\n",
    "    #fine tuning: looking for the best zmag coordinate to have a symmetric distribution of deltax and deltatx with charge>0\n",
    "\n",
    "    nEvent = 0\n",
    "    for event in ch1:\n",
    "        #selecting some long tracks for event in ch1 and cut for !=0 else division/0\n",
    "        if (event.HitVeloZpos[1]-event.HitVeloZpos[0] != 0 and event.HitZpos[1]-event.HitZpos[0] != 0 \n",
    "            and  0.<event.HitVeloZpos[0]<event.HitVeloZpos[1]<800.  and event.HitZpos[0]>7000. and event.HitZpos[1]>7000 and event.p > 5000):\n",
    "            nEvent = nEvent+1\n",
    "\n",
    "\n",
    "            xv0 = event.HitVeloXpos[0]; yv0 = event.HitVeloYpos[0]; zv0 = event.HitVeloZpos[0];\n",
    "            xv1 = event.HitVeloXpos[1]; yv1 = event.HitVeloYpos[1]; zv1 = event.HitVeloZpos[1];\n",
    "            xt0 = event.HitXpos[0]; yt0 = event.HitYpos[0]; zt0 = event.HitZpos[0];\n",
    "            xt1 = event.HitXpos[1]; yt1 = event.HitYpos[1]; zt1 = event.HitZpos[1];\n",
    "            vp = event.p\n",
    "\n",
    "            #testing asymmetry: add if event.qop>0\n",
    "            if event.qop<0:\n",
    "                smearing = False\n",
    "\n",
    "                #sigma squared\n",
    "                sigma2x=pow(sigmax_nosm,2)\n",
    "                sigma2y=pow(sigmay_nosm,2)\n",
    "                sigma2tx=pow(sigmatx_nosm,2)\n",
    "                sigma2ty=pow(sigmaty_nosm,2)\n",
    "\n",
    "                chi2_astest = ChiSquareVeloT(xv0, yv0, zv0, xv1, yv1, zv1, xt0, yt0, zt0, xt1, yt1, zt1 , zmag, smearing=smearing)\n",
    "                chihisto_nosm.Fill(chi2_astest[0])\n",
    "                list_chi_nosm.append(chi2_astest[0])\n",
    "                scatterx_nosm.Fill(chi2_astest[1])\n",
    "                list_scx_nosm.append(chi2_astest[1])\n",
    "                scattery_nosm.Fill(chi2_astest[2])\n",
    "                list_scy_nosm.append(chi2_astest[2])\n",
    "                scattertx_nosm.Fill(chi2_astest[3])\n",
    "                list_sctx_nosm.append(chi2_astest[3])\n",
    "                scatterty_nosm.Fill(chi2_astest[4])\n",
    "                list_scty_nosm.append(chi2_astest[4])\n",
    "\n",
    "        if(nEvent > maxNevent):\n",
    "            break\n",
    "\n",
    "\n",
    "    meansx_nosm.append(np.mean(reject_outliers(list_scx_nosm)))\n",
    "    meansy_nosm.append(np.mean(reject_outliers(list_scy_nosm)))\n",
    "    meanstx_nosm.append(np.mean(reject_outliers(list_sctx_nosm)))\n",
    "    meansty_nosm.append(np.mean(reject_outliers(list_scty_nosm)))\n",
    "\n",
    "\n",
    "\n",
    "\n"
   ]
  },
  {
   "cell_type": "code",
   "execution_count": 410,
   "metadata": {},
   "outputs": [
    {
     "data": {
      "image/png": "[encoded data removed]",
      "text/plain": [
       "<Figure size 432x288 with 1 Axes>"
      ]
     },
     "metadata": {},
     "output_type": "display_data"
    },
    {
     "data": {
      "image/png": "[encoded data removed]",
      "text/plain": [
       "<Figure size 432x288 with 1 Axes>"
      ]
     },
     "metadata": {},
     "output_type": "display_data"
    },
    {
     "data": {
      "image/png": "[encoded data removed]",
      "text/plain": [
       "<Figure size 432x288 with 1 Axes>"
      ]
     },
     "metadata": {},
     "output_type": "display_data"
    },
    {
     "data": {
      "image/png": "[encoded data removed]",
      "text/plain": [
       "<Figure size 432x288 with 1 Axes>"
      ]
     },
     "metadata": {},
     "output_type": "display_data"
    }
   ],
   "source": [
    "#testing asymmetry, to find zmag fine tuning, \n",
    "plt.scatter(range_as,meansx_nosm )\n",
    "plt.show()\n",
    "plt.scatter(range_as,meansy_nosm )\n",
    "plt.show()\n",
    "plt.scatter(range_as,meanstx_nosm )\n",
    "plt.show()\n",
    "plt.scatter(range_as,meansty_nosm )\n",
    "plt.show()"
   ]
  },
  {
   "cell_type": "code",
   "execution_count": 422,
   "metadata": {},
   "outputs": [
    {
     "name": "stdout",
     "output_type": "stream",
     "text": [
      "('\\n', 100000)\n"
     ]
    }
   ],
   "source": [
    "###################################################\n",
    "# testing smearing: finding sigmas and thresholds #\n",
    "###################################################\n",
    "\n",
    "\n",
    "stdsx_nosm = []\n",
    "stdsy_nosm = []\n",
    "stdstx_nosm = []\n",
    "stdsty_nosm = []\n",
    "\n",
    "stdsx_wsm = []\n",
    "stdsy_wsm = []\n",
    "stdstx_wsm = []\n",
    "stdsty_wsm = []\n",
    "\n",
    "\n",
    "rangex =range(100000,100001,1) #for chi2 threshold\n",
    "#rangex =np.linspace(10000,100000,10) #for smearing\n",
    "for maxNevent in rangex:\n",
    "    \n",
    "    print('\\n', maxNevent)\n",
    "\n",
    "    list_chi_wsm = []\n",
    "    list_chi_nosm = []\n",
    "    list_scx_wsm = []\n",
    "    list_scx_nosm = []\n",
    "    list_scy_wsm = []\n",
    "    list_scy_nosm = []\n",
    "    list_sctx_wsm = []\n",
    "    list_sctx_nosm = []\n",
    "    list_scty_wsm = []\n",
    "    list_scty_nosm = []\n",
    "\n",
    "\n",
    "\n",
    "    #TESTING SEARCH WINDOWS\n",
    "    #after noting an asymmetry in distribution depending on the sign of the charge, the zmag has been found from the data. around 5100\n",
    "    #fine tuning: looking for the best zmag coordinate to have a symmetric distribution of deltax and deltatx with charge>0\n",
    "\n",
    "    nEvent = 0\n",
    "    for event in ch1:\n",
    "        #selecting some long tracks for event in ch1 and cut for !=0 else division/0\n",
    "        if (event.HitVeloZpos[1]-event.HitVeloZpos[0] != 0 and event.HitZpos[1]-event.HitZpos[0] != 0 \n",
    "           and  0.<event.HitVeloZpos[0]<event.HitVeloZpos[1]<800.  and event.HitZpos[0]>7000. and event.HitZpos[1]>7000 and event.p > 5000):\n",
    "            nEvent = nEvent+1\n",
    "                \n",
    "\n",
    "            xv0 = event.HitVeloXpos[0]; yv0 = event.HitVeloYpos[0]; zv0 = event.HitVeloZpos[0];\n",
    "            xv1 = event.HitVeloXpos[1]; yv1 = event.HitVeloYpos[1]; zv1 = event.HitVeloZpos[1];\n",
    "            xt0 = event.HitXpos[0]; yt0 = event.HitYpos[0]; zt0 = event.HitZpos[0];\n",
    "            xt1 = event.HitXpos[1]; yt1 = event.HitYpos[1]; zt1 = event.HitZpos[1];\n",
    "            vp = event.p\n",
    "\n",
    "            #testing smearing\n",
    "            for smearing in [False,True]:\n",
    "\n",
    "                #change sigmas and windows depending on smearing on/off\n",
    "                if smearing == False:\n",
    "                    #sigma squared\n",
    "                    sigma2x=pow(sigmax_nosm,2)\n",
    "                    sigma2y=pow(sigmay_nosm,2)\n",
    "                    sigma2tx=pow(sigmatx_nosm,2)\n",
    "                    sigma2ty=pow(sigmaty_nosm,2)\n",
    "\n",
    "                else:\n",
    "                    #sigma squared\n",
    "                    sigma2x=pow(sigmax_wsm,2)\n",
    "                    sigma2y=pow(sigmay_wsm,2)\n",
    "                    sigma2tx=pow(sigmatx_wsm,2)\n",
    "                    sigma2ty=pow(sigmaty_wsm,2)\n",
    "\n",
    "                chi2_smtest = ChiSquareVeloT(xv0, yv0, zv0, xv1, yv1, zv1, xt0, yt0, zt0, xt1, yt1, zt1 , zmag, smearing=smearing)\n",
    "                if smearing == True:\n",
    "                    chihisto_wsm.Fill(chi2_smtest[0])\n",
    "                    list_chi_wsm.append(chi2_smtest[0])\n",
    "                    scatterx_wsm.Fill(chi2_smtest[1])\n",
    "                    list_scx_wsm.append(chi2_smtest[1])\n",
    "                    scattery_wsm.Fill(chi2_smtest[2])\n",
    "                    list_scy_wsm.append(chi2_smtest[2])\n",
    "                    scattertx_wsm.Fill(chi2_smtest[3])\n",
    "                    list_sctx_wsm.append(chi2_smtest[3])\n",
    "                    scatterty_wsm.Fill(chi2_smtest[4])\n",
    "                    list_scty_wsm.append(chi2_smtest[4])\n",
    "                else:\n",
    "                    chihisto_nosm.Fill(chi2_smtest[0])\n",
    "                    list_chi_nosm.append(chi2_smtest[0])\n",
    "                    scatterx_nosm.Fill(chi2_smtest[1])\n",
    "                    list_scx_nosm.append(chi2_smtest[1])\n",
    "                    scattery_nosm.Fill(chi2_smtest[2])\n",
    "                    list_scy_nosm.append(chi2_smtest[2])\n",
    "                    scattertx_nosm.Fill(chi2_smtest[3])\n",
    "                    list_sctx_nosm.append(chi2_smtest[3])\n",
    "                    scatterty_nosm.Fill(chi2_smtest[4])\n",
    "                    list_scty_nosm.append(chi2_smtest[4])\n",
    "  \n",
    "        if(nEvent > maxNevent):\n",
    "            break\n",
    "    \n",
    "    stdsx_nosm.append(np.std(reject_outliers(list_scx_nosm)))\n",
    "    stdsy_nosm.append(np.std(reject_outliers(list_scy_nosm)))\n",
    "    stdstx_nosm.append(np.std(reject_outliers(list_sctx_nosm)))\n",
    "    stdsty_nosm.append(np.std(reject_outliers(list_scty_nosm)))\n",
    "    \n",
    "    stdsx_wsm.append(np.std(reject_outliers(list_scx_wsm)))\n",
    "    stdsy_wsm.append(np.std(reject_outliers(list_scy_wsm)))\n",
    "    stdstx_wsm.append(np.std(reject_outliers(list_sctx_wsm)))\n",
    "    stdsty_wsm.append(np.std(reject_outliers(list_scty_wsm)))\n"
   ]
  },
  {
   "cell_type": "code",
   "execution_count": 419,
   "metadata": {},
   "outputs": [
    {
     "name": "stdout",
     "output_type": "stream",
     "text": [
      "no smearing\n",
      "11.619883002772664\n",
      "8.058340967939031\n",
      "0.00415496256371705\n",
      "0.0019667862482291394\n",
      "\n",
      "\n",
      "with smearing\n",
      "25.60825907302519\n",
      "8.058532250221507\n",
      "0.009323780758813141\n",
      "0.01936090946634518\n"
     ]
    }
   ],
   "source": [
    "#mean of stds after it becomes stable\n",
    "\n",
    "\n",
    "print 'no smearing'\n",
    "print(np.mean(stdsx_nosm))\n",
    "print(np.mean(stdsy_nosm))\n",
    "print(np.mean(stdstx_nosm))\n",
    "print(np.mean(stdsty_nosm))\n",
    "\n",
    "print '\\n'\n",
    "print 'with smearing'\n",
    "print(np.mean((stdsx_wsm[index_thr:])))\n",
    "print(np.mean((stdsy_wsm[index_thr:])))\n",
    "print(np.mean((stdstx_wsm[index_thr:])))\n",
    "print(np.mean((stdsty_wsm[index_thr:])))\n"
   ]
  },
  {
   "cell_type": "code",
   "execution_count": 420,
   "metadata": {},
   "outputs": [
    {
     "data": {
      "image/png": "[encoded data removed]",
      "text/plain": [
       "<Figure size 432x288 with 1 Axes>"
      ]
     },
     "metadata": {},
     "output_type": "display_data"
    },
    {
     "data": {
      "image/png": "[encoded data removed]",
      "text/plain": [
       "<Figure size 432x288 with 1 Axes>"
      ]
     },
     "metadata": {},
     "output_type": "display_data"
    },
    {
     "data": {
      "image/png": "[encoded data removed]",
      "text/plain": [
       "<Figure size 432x288 with 1 Axes>"
      ]
     },
     "metadata": {},
     "output_type": "display_data"
    },
    {
     "data": {
      "image/png": "[encoded data removed]",
      "text/plain": [
       "<Figure size 432x288 with 1 Axes>"
      ]
     },
     "metadata": {},
     "output_type": "display_data"
    }
   ],
   "source": [
    "#to find sigmas with and without smearing\n",
    "plt.scatter(rangex,stdsx_wsm )\n",
    "plt.show()\n",
    "plt.scatter(rangex,stdsy_wsm )\n",
    "plt.show()\n",
    "plt.scatter(rangex,stdstx_wsm )\n",
    "plt.show()\n",
    "plt.scatter(rangex,stdsty_wsm )\n",
    "plt.show()"
   ]
  },
  {
   "cell_type": "code",
   "execution_count": 423,
   "metadata": {},
   "outputs": [
    {
     "name": "stdout",
     "output_type": "stream",
     "text": [
      "6465\n",
      "([80, 81, 82, 83, 84, 85, 86, 87, 88, 89, 90, 91, 92, 93, 94, 95, 96, 97, 98, 99], [3.03, 3.25, 3.46, 3.74, 4.06, 4.39, 4.74, 5.25, 5.86, 6.51, 7.35, 8.42, 9.63, 11.6, 14.31, 17.56, 23.2, 34.31, 51.55, 91.08], [1.41, 1.58, 1.69, 1.87, 2.03, 2.21, 2.45, 2.71, 3.03, 3.39, 3.92, 4.5, 5.28, 6.37, 7.79, 9.98, 14.5, 22.18, 36.23, 77.76])\n"
     ]
    }
   ],
   "source": [
    "#print the threshold for the chi2 to include a percentage of long track chi2s when cutting below threshold\n",
    "\n",
    "perc_list = []\n",
    "thr_wsm_list = []\n",
    "thr_nosm_list = []\n",
    "\n",
    "list_chi_wsm.sort()\n",
    "list_chi_nosm.sort()\n",
    "\n",
    "print(len(list_chi_wsm))\n",
    "\n",
    "for percentage in range(80,100):\n",
    "    threshold_wsm = list_chi_wsm[len(list_chi_wsm)/100*percentage]\n",
    "    threshold_nosm = list_chi_nosm[len(list_chi_nosm)/100*percentage]\n",
    "    perc_list.append(percentage)\n",
    "    thr_wsm_list.append(round(threshold_wsm,2))\n",
    "    thr_nosm_list.append(round(threshold_nosm,2))\n",
    "    \n",
    "    \n",
    "print(perc_list, thr_nosm_list, thr_wsm_list)"
   ]
  },
  {
   "cell_type": "code",
   "execution_count": null,
   "metadata": {},
   "outputs": [],
   "source": [
    "#### PLOTS #####\n",
    "\n",
    "c9=TCanvas(\"c9\",\"\",1300,900)\n",
    "chihisto_nosm.SetLineColor(kBlue)\n",
    "chihisto_nosm.Draw()\n",
    "chihisto_wsm.SetLineColor(kRed)\n",
    "chihisto_wsm.Draw(\"SAME\")\n",
    "c9.SaveAs(\"dist_chi2_wwo_smearing.png\")"
   ]
  },
  {
   "cell_type": "code",
   "execution_count": 233,
   "metadata": {},
   "outputs": [
    {
     "name": "stdout",
     "output_type": "stream",
     "text": [
      "34.3907786363\n",
      "122.151072297\n",
      "0.0054743794165\n",
      "0.0367664749103\n",
      " FCN=8.02303 FROM MIGRAD    STATUS=CONVERGED     130 CALLS         131 TOTAL\n",
      "                     EDM=7.73815e-07    STRATEGY= 1      ERROR MATRIX ACCURATE \n",
      "  EXT PARAMETER                                   STEP         FIRST   \n",
      "  NO.   NAME      VALUE            ERROR          SIZE      DERIVATIVE \n",
      "   1  Constant     2.83251e+00   5.14252e-01   6.00104e-04  -2.16112e-03\n",
      "   2  Mean         5.62120e+00   1.61281e+01   2.17841e-02  -2.94040e-05\n",
      "   3  Sigma        3.43908e+01   2.61933e+01   7.10813e-04  -1.68194e-03\n",
      " FCN=2.61036 FROM MIGRAD    STATUS=CONVERGED     326 CALLS         327 TOTAL\n",
      "                     EDM=4.70555e-07    STRATEGY= 1      ERROR MATRIX ACCURATE \n",
      "  EXT PARAMETER                                   STEP         FIRST   \n",
      "  NO.   NAME      VALUE            ERROR          SIZE      DERIVATIVE \n",
      "   1  Constant     2.56250e+00   2.27570e+00   3.61076e-04   5.87418e-04\n",
      "   2  Mean         4.78657e+01   1.90018e+02   2.99493e-02  -6.34912e-06\n",
      "   3  Sigma        1.22151e+02   6.49918e+01   1.47103e-02   4.51927e-05\n",
      " FCN=7.12775 FROM MIGRAD    STATUS=CONVERGED      86 CALLS          87 TOTAL\n",
      "                     EDM=8.99374e-07    STRATEGY= 1      ERROR MATRIX ACCURATE \n",
      "  EXT PARAMETER                                   STEP         FIRST   \n",
      "  NO.   NAME      VALUE            ERROR          SIZE      DERIVATIVE \n",
      "   1  Constant     2.96357e+00   5.82886e-01   6.01605e-04  -1.98914e-03\n",
      "   2  Mean        -4.15253e-04   1.73991e-03   2.34428e-06  -6.78822e-01\n",
      "   3  Sigma        5.47438e-03   3.16596e-03   3.14309e-04  -3.17891e-03\n",
      " FCN=0.00172877 FROM MIGRAD    STATUS=CONVERGED     141 CALLS         142 TOTAL\n",
      "                     EDM=1.25406e-07    STRATEGY= 1  ERROR MATRIX UNCERTAINTY   2.3 per cent\n",
      "  EXT PARAMETER                                   STEP         FIRST   \n",
      "  NO.   NAME      VALUE            ERROR          SIZE      DERIVATIVE \n",
      "   1  Constant     2.00993e+00   3.04940e-01   7.15527e-04   4.96135e-04\n",
      "   2  Mean         1.22140e-03   5.94747e-02  -5.12725e-05   1.04932e-02\n",
      "   3  Sigma        3.67665e-02   2.99883e-02  -1.55260e-02  -7.45974e-06\n"
     ]
    },
    {
     "name": "stderr",
     "output_type": "stream",
     "text": [
      "Warning in <TCanvas::Constructor>: Deleting canvas with same name: c5\n",
      "Info in <TCanvas::Print>: png file dist_testing_deltas_nosmearing.png has been created\n"
     ]
    }
   ],
   "source": [
    "#plot deltax, y tx, ty distributions with no smearing\n",
    "\n",
    "\n",
    "\n",
    "c5=TCanvas(\"c5\",\"\",1300,900)\n",
    "\n",
    "c5.Divide(2,2)\n",
    "\n",
    "c5.cd(1)\n",
    "funcx= TF1(\"funcx\", \"gaus\", -histolimx, +histolimx)\n",
    "funcx.SetParameters(500,0,0)\n",
    "fitresult_x = scatterx_nosm.Fit(funcx)\n",
    "print(funcx.GetParameter(2))\n",
    "#scatterx_nosm.Draw()\n",
    "\n",
    "\n",
    "\n",
    "\n",
    "c5.cd(2)\n",
    "funcy = TF1(\"funcy\", \"gaus\", -histolimy, +histolimy)\n",
    "funcy.SetParameters(500,0,0)\n",
    "fitresult_y = scattery_nosm.Fit(funcy)\n",
    "print(funcy.GetParameter(2))\n",
    "#scattery_nosm.Draw()\n",
    "\n",
    "\n",
    "\n",
    "c5.cd(3)\n",
    "funct = TF1(\"functx\", \"gaus\", -histolimtx, +histolimtx)\n",
    "functx.SetParameters(500,0,0)\n",
    "fitresult_tx = scattertx_nosm.Fit(functx)\n",
    "print(functx.GetParameter(2))\n",
    "#scattertx_nosm.Draw()\n",
    "\n",
    "c5.cd(4)\n",
    "functy = TF1(\"functy\", \"gaus\", -histolimty, +histolimty)\n",
    "functy.SetParameters(500,0,0)\n",
    "fitresult_ty = scatterty_nosm.Fit(functy)\n",
    "print(functy.GetParameter(2))\n",
    "scatterty_nosm.Draw()\n",
    "\n",
    "\n",
    "c5.SaveAs(\"dist_testing_deltas_nosmearing.png\")"
   ]
  },
  {
   "cell_type": "code",
   "execution_count": 365,
   "metadata": {},
   "outputs": [
    {
     "name": "stdout",
     "output_type": "stream",
     "text": [
      "4.28272563778\n",
      "21.6645034303\n",
      "0.00154991296567\n",
      "0.00317805227026\n",
      " FCN=17393.4 FROM MIGRAD    STATUS=CONVERGED     108 CALLS         109 TOTAL\n",
      "                     EDM=1.59655e-07    STRATEGY= 1      ERROR MATRIX ACCURATE \n",
      "  EXT PARAMETER                                   STEP         FIRST   \n",
      "  NO.   NAME      VALUE            ERROR          SIZE      DERIVATIVE \n",
      "   1  Constant     3.49504e+04   1.19333e+02   5.19613e+00   4.17763e-06\n",
      "   2  Mean        -2.29140e-02   9.88791e-03   6.36771e-04   1.31703e-04\n",
      "   3  Sigma        4.28273e+00   1.07688e-02   2.37135e-05   1.50728e+00\n",
      " FCN=2825.54 FROM MIGRAD    STATUS=CONVERGED      72 CALLS          73 TOTAL\n",
      "                     EDM=3.17518e-11    STRATEGY= 1      ERROR MATRIX ACCURATE \n",
      "  EXT PARAMETER                                   STEP         FIRST   \n",
      "  NO.   NAME      VALUE            ERROR          SIZE      DERIVATIVE \n",
      "   1  Constant     7.43076e+03   2.17532e+01   4.29445e-01   2.57720e-07\n",
      "   2  Mean         7.50334e-02   4.82334e-02   1.25212e-03  -9.16570e-05\n",
      "   3  Sigma        2.16645e+01   4.11803e-02   1.21094e-05   1.42224e-02\n",
      " FCN=15818.3 FROM MIGRAD    STATUS=CONVERGED      94 CALLS          95 TOTAL\n",
      "                     EDM=3.69205e-10    STRATEGY= 1      ERROR MATRIX ACCURATE \n",
      "  EXT PARAMETER                                   STEP         FIRST   \n",
      "  NO.   NAME      VALUE            ERROR          SIZE      DERIVATIVE \n",
      "   1  Constant     1.93337e+04   6.61152e+01   2.73992e+00  -2.11158e-07\n",
      "   2  Mean         8.51206e-06   3.57669e-06   2.19657e-07   4.12335e-01\n",
      "   3  Sigma        1.54991e-03   3.91006e-06   2.64151e-05  -5.60828e-02\n",
      " FCN=4906.45 FROM MIGRAD    STATUS=CONVERGED      81 CALLS          82 TOTAL\n",
      "                     EDM=1.41949e-11    STRATEGY= 1      ERROR MATRIX ACCURATE \n",
      "  EXT PARAMETER                                   STEP         FIRST   \n",
      "  NO.   NAME      VALUE            ERROR          SIZE      DERIVATIVE \n",
      "   1  Constant     1.00278e+04   2.99451e+01   7.67539e-01  -2.02321e-07\n",
      "   2  Mean        -2.12679e-05   7.11162e-06   2.43256e-07  -1.69501e-01\n",
      "   3  Sigma        3.17805e-03   6.28304e-06   1.56279e-05  -1.07155e-02\n"
     ]
    },
    {
     "name": "stderr",
     "output_type": "stream",
     "text": [
      "Warning in <TCanvas::Constructor>: Deleting canvas with same name: c5\n",
      "Info in <TCanvas::Print>: png file dist_testing_deltas_smearing.png has been created\n"
     ]
    }
   ],
   "source": [
    "#plot deltax, y tx, ty distributions with smearing\n",
    "\n",
    "\n",
    "\n",
    "c1=TCanvas(\"c5\",\"\",1300,900)\n",
    "\n",
    "c1.Divide(2,2)\n",
    "\n",
    "c1.cd(1)\n",
    "funcx= TF1(\"funcx\", \"gaus\", -histolimx, +histolimx)\n",
    "funcx.SetParameters(500,0,0)\n",
    "fitresult_x = scatterx_wsm.Fit(funcx)\n",
    "print(funcx.GetParameter(2))\n",
    "scatterx_wsm.Draw()\n",
    "\n",
    "\n",
    "\n",
    "\n",
    "c1.cd(2)\n",
    "funcy = TF1(\"funcy\", \"gaus\", -histolimy, +histolimy)\n",
    "funcy.SetParameters(500,0,0)\n",
    "fitresult_y = scattery_wsm.Fit(funcy)\n",
    "print(funcy.GetParameter(2))\n",
    "scattery_wsm.Draw()\n",
    "\n",
    "\n",
    "\n",
    "c1.cd(3)\n",
    "funct = TF1(\"functx\", \"gaus\", -histolimtx, +histolimtx)\n",
    "functx.SetParameters(500,0,0)\n",
    "fitresult_tx = scattertx_wsm.Fit(functx)\n",
    "print(functx.GetParameter(2))\n",
    "scattertx_wsm.Draw()\n",
    "\n",
    "c1.cd(4)\n",
    "functy = TF1(\"functy\", \"gaus\", -histolimty, +histolimty)\n",
    "functy.SetParameters(500,0,0)\n",
    "fitresult_ty = scatterty_wsm.Fit(functy)\n",
    "print(functy.GetParameter(2))\n",
    "scatterty_wsm.Draw()\n",
    "\n",
    "\n",
    "c1.SaveAs(\"dist_testing_deltas_smearing.png\")"
   ]
  },
  {
   "cell_type": "code",
   "execution_count": null,
   "metadata": {},
   "outputs": [],
   "source": []
  }
 ],
 "metadata": {
  "kernelspec": {
   "display_name": "Python 2",
   "language": "python",
   "name": "python2"
  },
  "language_info": {
   "codemirror_mode": {
    "name": "ipython",
    "version": 2
   },
   "file_extension": ".py",
   "mimetype": "text/x-python",
   "name": "python",
   "nbconvert_exporter": "python",
   "pygments_lexer": "ipython2",
   "version": "2.7.15"
  }
 },
 "nbformat": 4,
 "nbformat_minor": 2
}
